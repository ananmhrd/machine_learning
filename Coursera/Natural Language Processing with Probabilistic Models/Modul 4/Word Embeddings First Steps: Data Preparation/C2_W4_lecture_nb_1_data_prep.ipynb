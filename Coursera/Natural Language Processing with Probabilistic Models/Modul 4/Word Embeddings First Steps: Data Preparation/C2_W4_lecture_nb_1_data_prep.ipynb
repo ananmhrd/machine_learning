{
  "cells": [
    {
      "cell_type": "markdown",
      "metadata": {
        "id": "view-in-github",
        "colab_type": "text"
      },
      "source": [
        "<a href=\"https://colab.research.google.com/github/ananmhrd/machine_learning/blob/main/Coursera/Natural%20Language%20Processing%20with%20Probabilistic%20Models/Modul%204/Word%20Embeddings%20First%20Steps%3A%20Data%20Preparation/C2_W4_lecture_nb_1_data_prep.ipynb\" target=\"_parent\"><img src=\"https://colab.research.google.com/assets/colab-badge.svg\" alt=\"Open In Colab\"/></a>"
      ]
    },
    {
      "cell_type": "markdown",
      "metadata": {
        "id": "REK7IIa619vD"
      },
      "source": [
        "# Word Embeddings First Steps: Data Preparation\n",
        "\n",
        "In this series of ungraded notebooks, you'll try out all the individual techniques that you learned about in the lectures. Practicing on small examples will prepare you for the graded assignment, where you will combine the techniques in more advanced ways to create word embeddings from a real-life corpus.\n",
        "\n",
        "This notebook focuses on data preparation, which is the first step of any machine learning algorithm. It is a very important step because models are only as good as the data they are trained on and the models used require the data to have a particular structure to process it properly.\n",
        "\n",
        "To get started, import and initialize all the libraries you will need."
      ]
    },
    {
      "cell_type": "code",
      "execution_count": 1,
      "metadata": {
        "colab": {
          "base_uri": "https://localhost:8080/"
        },
        "id": "DwN0TIgh19vL",
        "outputId": "9d05669a-2a90-414b-931e-c28c70b5a3eb"
      },
      "outputs": [
        {
          "output_type": "stream",
          "name": "stdout",
          "text": [
            "fatal: destination path 'machine_learning' already exists and is not an empty directory.\n"
          ]
        },
        {
          "output_type": "stream",
          "name": "stderr",
          "text": [
            "[nltk_data] Downloading package punkt to /root/nltk_data...\n",
            "[nltk_data]   Package punkt is already up-to-date!\n"
          ]
        }
      ],
      "source": [
        "import re\n",
        "import nltk\n",
        "\n",
        "!git clone https://github.com/ananmhrd/machine_learning.git\n",
        "!cp /content/machine_learning/Coursera/Natural\\ Language\\ Processing\\ with\\ Probabilistic\\ Models\\/Modul\\ 4\\/Word\\ Embeddings\\ First\\ Steps:\\ Data\\ Preparation\\/utils2.py /content\n",
        "nltk.download('punkt')\n",
        "\n",
        "import emoji\n",
        "import numpy as np\n",
        "from nltk.tokenize import word_tokenize\n",
        "from utils2 import get_dict"
      ]
    },
    {
      "cell_type": "markdown",
      "metadata": {
        "id": "Q8-1Kcx919vN"
      },
      "source": [
        "# Data preparation"
      ]
    },
    {
      "cell_type": "markdown",
      "metadata": {
        "id": "yY0WngWi19vQ"
      },
      "source": [
        "In the data preparation phase, starting with a corpus of text, you will:\n",
        "\n",
        "- Clean and tokenize the corpus.\n",
        "\n",
        "- Extract the pairs of context words and center word that will make up the training data set for the CBOW model. The context words are the features that will be fed into the model, and the center words are the target values that the model will learn to predict.\n",
        "\n",
        "- Create simple vector representations of the context words (features) and center words (targets) that can be used by the neural network of the CBOW model."
      ]
    },
    {
      "cell_type": "markdown",
      "metadata": {
        "id": "-bD8eenR19vR"
      },
      "source": [
        "## Cleaning and tokenization\n",
        "\n",
        "To demonstrate the cleaning and tokenization process, consider a corpus that contains emojis and various punctuation signs."
      ]
    },
    {
      "cell_type": "code",
      "execution_count": 2,
      "metadata": {
        "id": "pftEg7H419vS"
      },
      "outputs": [],
      "source": [
        "# Define a corpus\n",
        "corpus = 'Who ❤️ \"word embeddings\" in 2020? I do!!!'"
      ]
    },
    {
      "cell_type": "markdown",
      "metadata": {
        "id": "pcv2sVJk19vT"
      },
      "source": [
        "First, replace all interrupting punctuation signs — such as commas and exclamation marks — with periods."
      ]
    },
    {
      "cell_type": "code",
      "execution_count": 3,
      "metadata": {
        "colab": {
          "base_uri": "https://localhost:8080/"
        },
        "id": "AfdRBlbb19vU",
        "outputId": "59e480d7-25d2-49d6-8f8c-821546205463"
      },
      "outputs": [
        {
          "output_type": "stream",
          "name": "stdout",
          "text": [
            "Corpus:  Who ❤️ \"word embeddings\" in 2020? I do!!!\n",
            "After cleaning punctuation:  Who ❤️ \"word embeddings\" in 2020. I do.\n"
          ]
        }
      ],
      "source": [
        "# Print original corpus\n",
        "print(f'Corpus:  {corpus}')\n",
        "\n",
        "# Do the substitution\n",
        "data = re.sub(r'[,!?;-]+', '.', corpus)\n",
        "\n",
        "# Print cleaned corpus\n",
        "print(f'After cleaning punctuation:  {data}')"
      ]
    },
    {
      "cell_type": "markdown",
      "metadata": {
        "id": "RLCBCPnO19vV"
      },
      "source": [
        "Next, use NLTK's tokenization engine to split the corpus into individual tokens."
      ]
    },
    {
      "cell_type": "code",
      "execution_count": 4,
      "metadata": {
        "colab": {
          "base_uri": "https://localhost:8080/"
        },
        "id": "JG-CAGzl19vW",
        "outputId": "324e342d-df84-4c9b-854c-349da3a4f6cb"
      },
      "outputs": [
        {
          "output_type": "stream",
          "name": "stdout",
          "text": [
            "Initial string:  Who ❤️ \"word embeddings\" in 2020. I do.\n",
            "After tokenization:  ['Who', '❤️', '``', 'word', 'embeddings', \"''\", 'in', '2020', '.', 'I', 'do', '.']\n"
          ]
        }
      ],
      "source": [
        "# Print cleaned corpus\n",
        "print(f'Initial string:  {data}')\n",
        "\n",
        "# Tokenize the cleaned corpus\n",
        "data = nltk.word_tokenize(data)\n",
        "\n",
        "# Print the tokenized version of the corpus\n",
        "print(f'After tokenization:  {data}')"
      ]
    },
    {
      "cell_type": "markdown",
      "metadata": {
        "id": "wexY7XZZ19vX"
      },
      "source": [
        "Finally, as you saw in the lecture, get rid of numbers and punctuation other than periods, and convert all the remaining tokens to lowercase."
      ]
    },
    {
      "cell_type": "code",
      "execution_count": 5,
      "metadata": {
        "colab": {
          "base_uri": "https://localhost:8080/"
        },
        "id": "hL3Wsoe619vX",
        "outputId": "d35447df-a46c-4591-e134-a63d499be9ec"
      },
      "outputs": [
        {
          "output_type": "stream",
          "name": "stdout",
          "text": [
            "Initial list of tokens:  ['Who', '❤️', '``', 'word', 'embeddings', \"''\", 'in', '2020', '.', 'I', 'do', '.']\n",
            "After cleaning:  ['who', '❤️', 'word', 'embeddings', 'in', '.', 'i', 'do', '.']\n"
          ]
        }
      ],
      "source": [
        "# Print the tokenized version of the corpus\n",
        "print(f'Initial list of tokens:  {data}')\n",
        "\n",
        "# Define the regular expression pattern for matching emojis\n",
        "emoji_pattern = re.compile(\"[\"\n",
        "                           u\"\\U0001F600-\\U0001F64F\"  # emoticons\n",
        "                           u\"\\U0001F300-\\U0001F5FF\"  # symbols & pictographs\n",
        "                           u\"\\U0001F680-\\U0001F6FF\"  # transport & map symbols\n",
        "                           u\"\\U0001F1E0-\\U0001F1FF\"  # flags (iOS)\n",
        "                           u\"\\U00002702-\\U000027B0\"\n",
        "                           u\"\\U000024C2-\\U0001F251\"\n",
        "                           \"]+\", flags=re.UNICODE)\n",
        "\n",
        "# Filter tokenized corpus using list comprehension\n",
        "data = [ ch.lower() for ch in data\n",
        "         if ch.isalpha()\n",
        "         or ch == '.'\n",
        "         or emoji_pattern.search(ch)\n",
        "       ]\n",
        "\n",
        "# Print the tokenized and filtered version of the corpus\n",
        "print(f'After cleaning:  {data}')"
      ]
    },
    {
      "cell_type": "markdown",
      "metadata": {
        "id": "mGuoO-3b19vX"
      },
      "source": [
        "Note that the heart emoji is considered as a token just like any normal word.\n",
        "\n",
        "Now let's streamline the cleaning and tokenization process by wrapping the previous steps in a function."
      ]
    },
    {
      "cell_type": "code",
      "execution_count": 6,
      "metadata": {
        "id": "Lcotwbib19vY"
      },
      "outputs": [],
      "source": [
        "# Define the 'tokenize' function that will include the steps previously seen\n",
        "def tokenize(corpus):\n",
        "    data = re.sub(r'[,!?;-]+', '.', corpus)\n",
        "    data = nltk.word_tokenize(data)  # tokenize string to words\n",
        "    data = [ ch.lower() for ch in data\n",
        "             if ch.isalpha()\n",
        "             or ch == '.'\n",
        "             or emoji_pattern.search(ch)\n",
        "           ]\n",
        "    return data"
      ]
    },
    {
      "cell_type": "markdown",
      "metadata": {
        "id": "jepzXGLV19vY"
      },
      "source": [
        "Apply this function to the corpus that you'll be working on in the rest of this notebook: \"I am happy because I am learning\""
      ]
    },
    {
      "cell_type": "code",
      "execution_count": 7,
      "metadata": {
        "colab": {
          "base_uri": "https://localhost:8080/"
        },
        "id": "ehKJtbIs19vY",
        "outputId": "32a93011-9bc0-410d-ca21-13d9f9a99126"
      },
      "outputs": [
        {
          "output_type": "stream",
          "name": "stdout",
          "text": [
            "Corpus:  I am happy because I am learning\n",
            "Words (tokens):  ['i', 'am', 'happy', 'because', 'i', 'am', 'learning']\n"
          ]
        }
      ],
      "source": [
        "# Define new corpus\n",
        "corpus = 'I am happy because I am learning'\n",
        "\n",
        "# Print new corpus\n",
        "print(f'Corpus:  {corpus}')\n",
        "\n",
        "# Save tokenized version of corpus into 'words' variable\n",
        "words = tokenize(corpus)\n",
        "\n",
        "# Print the tokenized version of the corpus\n",
        "print(f'Words (tokens):  {words}')"
      ]
    },
    {
      "cell_type": "markdown",
      "metadata": {
        "id": "4oTMeRbk19vZ"
      },
      "source": [
        "**Now try it out yourself with your own sentence.**"
      ]
    },
    {
      "cell_type": "code",
      "execution_count": 8,
      "metadata": {
        "colab": {
          "base_uri": "https://localhost:8080/"
        },
        "id": "wNb9rGk219vZ",
        "outputId": "426b3409-ea07-42ce-a750-8df67f8866b8"
      },
      "outputs": [
        {
          "output_type": "execute_result",
          "data": {
            "text/plain": [
              "['now', 'it', 'your', 'turn', 'try', 'with', 'your', 'own', 'sentence', '.']"
            ]
          },
          "metadata": {},
          "execution_count": 8
        }
      ],
      "source": [
        "# Run this with any sentence\n",
        "tokenize(\"Now it's your turn: try with your own sentence!\")"
      ]
    },
    {
      "cell_type": "markdown",
      "metadata": {
        "id": "aHl_Okiz19va"
      },
      "source": [
        "## Sliding window of words"
      ]
    },
    {
      "cell_type": "markdown",
      "metadata": {
        "id": "G4Fu2_JY19va"
      },
      "source": [
        "Now that you have transformed the corpus into a list of clean tokens, you can slide a window of words across this list. For each window you can extract a center word and the context words.\n",
        "\n",
        "The `get_windows` function in the next cell was introduced in the lecture."
      ]
    },
    {
      "cell_type": "code",
      "execution_count": 9,
      "metadata": {
        "id": "HEl2ur0U19va"
      },
      "outputs": [],
      "source": [
        "# Define the 'get_windows' function\n",
        "def get_windows(words, C):\n",
        "    i = C\n",
        "    while i < len(words) - C:\n",
        "        center_word = words[i]\n",
        "        context_words = words[(i - C):i] + words[(i+1):(i+C+1)]\n",
        "        yield context_words, center_word\n",
        "        i += 1"
      ]
    },
    {
      "cell_type": "markdown",
      "metadata": {
        "id": "vpmuJg8i19va"
      },
      "source": [
        "The first argument of this function is a list of words (or tokens). The second argument, `C`, is the context half-size. Recall that for a given center word, the context words are made of `C` words to the left and `C` words to the right of the center word.\n",
        "\n",
        "Here is how you can use this function to extract context words and center words from a list of tokens. These context and center words will make up the training set that you will use to train the CBOW model."
      ]
    },
    {
      "cell_type": "code",
      "execution_count": 10,
      "metadata": {
        "colab": {
          "base_uri": "https://localhost:8080/"
        },
        "id": "WmhjaP6u19vb",
        "outputId": "44605edf-7b44-4b40-dd36-6bde919175ef"
      },
      "outputs": [
        {
          "output_type": "stream",
          "name": "stdout",
          "text": [
            "['i', 'am', 'because', 'i']\thappy\n",
            "['am', 'happy', 'i', 'am']\tbecause\n",
            "['happy', 'because', 'am', 'learning']\ti\n"
          ]
        }
      ],
      "source": [
        "# Print 'context_words' and 'center_word' for the new corpus with a 'context half-size' of 2\n",
        "for x, y in get_windows(['i', 'am', 'happy', 'because', 'i', 'am', 'learning'], 2):\n",
        "    print(f'{x}\\t{y}')"
      ]
    },
    {
      "cell_type": "markdown",
      "metadata": {
        "id": "RBy-Y6wL19vc"
      },
      "source": [
        "The first example of the training set is made of:\n",
        "\n",
        "- the context words \"i\", \"am\", \"because\", \"i\",\n",
        "\n",
        "- and the center word to be predicted: \"happy\".\n",
        "\n",
        "**Now try it out yourself. In the next cell, you can change both the sentence and the context half-size.**"
      ]
    },
    {
      "cell_type": "code",
      "execution_count": 11,
      "metadata": {
        "colab": {
          "base_uri": "https://localhost:8080/"
        },
        "id": "W8yutxY519vc",
        "outputId": "3581d00f-ad82-4e18-b079-402081fbb9de"
      },
      "outputs": [
        {
          "output_type": "stream",
          "name": "stdout",
          "text": [
            "['now', 'your']\tit\n",
            "['it', 'turn']\tyour\n",
            "['your', 'try']\tturn\n",
            "['turn', 'with']\ttry\n",
            "['try', 'your']\twith\n",
            "['with', 'own']\tyour\n",
            "['your', 'sentence']\town\n",
            "['own', '.']\tsentence\n"
          ]
        }
      ],
      "source": [
        "# Print 'context_words' and 'center_word' for any sentence with a 'context half-size' of 1\n",
        "for x, y in get_windows(tokenize(\"Now it's your turn: try with your own sentence!\"), 1):\n",
        "    print(f'{x}\\t{y}')"
      ]
    },
    {
      "cell_type": "markdown",
      "metadata": {
        "id": "nX2-NVCh19vc"
      },
      "source": [
        "## Transforming words into vectors for the training set"
      ]
    },
    {
      "cell_type": "markdown",
      "metadata": {
        "id": "0g_bcjN019vc"
      },
      "source": [
        "To finish preparing the training set, you need to transform the context words and center words into vectors.\n",
        "\n",
        "### Mapping words to indices and indices to words\n",
        "\n",
        "The center words will be represented as one-hot vectors, and the vectors that represent context words are also based on one-hot vectors.\n",
        "\n",
        "To create one-hot word vectors, you can start by mapping each unique word to a unique integer (or index). We have provided a helper function, `get_dict`, that creates a Python dictionary that maps words to integers and back."
      ]
    },
    {
      "cell_type": "code",
      "execution_count": 12,
      "metadata": {
        "id": "AofEE0bV19vc"
      },
      "outputs": [],
      "source": [
        "# Get 'word2Ind' and 'Ind2word' dictionaries for the tokenized corpus\n",
        "word2Ind, Ind2word = get_dict(words)"
      ]
    },
    {
      "cell_type": "markdown",
      "metadata": {
        "id": "TyP2mnAW19vd"
      },
      "source": [
        "Here's the dictionary that maps words to numeric indices."
      ]
    },
    {
      "cell_type": "code",
      "execution_count": 13,
      "metadata": {
        "scrolled": true,
        "colab": {
          "base_uri": "https://localhost:8080/"
        },
        "id": "Shyez1TA19vd",
        "outputId": "74dbe4af-e0b4-4226-8008-5c5e2dde93f4"
      },
      "outputs": [
        {
          "output_type": "execute_result",
          "data": {
            "text/plain": [
              "{'am': 0, 'because': 1, 'happy': 2, 'i': 3, 'learning': 4}"
            ]
          },
          "metadata": {},
          "execution_count": 13
        }
      ],
      "source": [
        "# Print 'word2Ind' dictionary\n",
        "word2Ind"
      ]
    },
    {
      "cell_type": "markdown",
      "metadata": {
        "id": "6BDy82kc19vd"
      },
      "source": [
        "You can use this dictionary to get the index of a word."
      ]
    },
    {
      "cell_type": "code",
      "execution_count": 14,
      "metadata": {
        "colab": {
          "base_uri": "https://localhost:8080/"
        },
        "id": "Ds2M_q1x19vd",
        "outputId": "6bfcced6-d971-46fd-fcde-3e33e343a9a8"
      },
      "outputs": [
        {
          "output_type": "stream",
          "name": "stdout",
          "text": [
            "Index of the word 'i':   3\n"
          ]
        }
      ],
      "source": [
        "# Print value for the key 'i' within word2Ind dictionary\n",
        "print(\"Index of the word 'i':  \",word2Ind['i'])"
      ]
    },
    {
      "cell_type": "markdown",
      "metadata": {
        "id": "R857mNeg19ve"
      },
      "source": [
        "And conversely, here's the dictionary that maps indices to words."
      ]
    },
    {
      "cell_type": "code",
      "execution_count": 15,
      "metadata": {
        "colab": {
          "base_uri": "https://localhost:8080/"
        },
        "id": "TTuzCQNj19ve",
        "outputId": "2c908f98-15db-4c2c-db92-a29099071fc8"
      },
      "outputs": [
        {
          "output_type": "execute_result",
          "data": {
            "text/plain": [
              "{0: 'am', 1: 'because', 2: 'happy', 3: 'i', 4: 'learning'}"
            ]
          },
          "metadata": {},
          "execution_count": 15
        }
      ],
      "source": [
        "# Print 'Ind2word' dictionary\n",
        "Ind2word"
      ]
    },
    {
      "cell_type": "code",
      "execution_count": 16,
      "metadata": {
        "scrolled": true,
        "colab": {
          "base_uri": "https://localhost:8080/"
        },
        "id": "U9BS_CVV19ve",
        "outputId": "3a1f04a7-6f71-48d6-c09d-51bf3d6d9908"
      },
      "outputs": [
        {
          "output_type": "stream",
          "name": "stdout",
          "text": [
            "Word which has index 2:   happy\n"
          ]
        }
      ],
      "source": [
        "# Print value for the key '2' within Ind2word dictionary\n",
        "print(\"Word which has index 2:  \",Ind2word[2] )"
      ]
    },
    {
      "cell_type": "markdown",
      "metadata": {
        "id": "ASuVf4oc19ve"
      },
      "source": [
        "Finally, get the length of either of these dictionaries to get the size of the vocabulary of your corpus, in other words the number of different words making up the corpus."
      ]
    },
    {
      "cell_type": "code",
      "execution_count": 17,
      "metadata": {
        "colab": {
          "base_uri": "https://localhost:8080/"
        },
        "id": "4RsqT1MH19ve",
        "outputId": "8ecea531-1622-45c4-e074-b27548d67258"
      },
      "outputs": [
        {
          "output_type": "stream",
          "name": "stdout",
          "text": [
            "Size of vocabulary:  5\n"
          ]
        }
      ],
      "source": [
        "# Save length of word2Ind dictionary into the 'V' variable\n",
        "V = len(word2Ind)\n",
        "\n",
        "# Print length of word2Ind dictionary\n",
        "print(\"Size of vocabulary: \", V)"
      ]
    },
    {
      "cell_type": "markdown",
      "metadata": {
        "id": "WtRnZ7m519vf"
      },
      "source": [
        "### Getting one-hot word vectors\n",
        "\n",
        "Recall from the lecture that you can easily convert an integer, $n$, into a one-hot vector.\n",
        "\n",
        "Consider the word \"happy\". First, retrieve its numeric index."
      ]
    },
    {
      "cell_type": "code",
      "execution_count": 18,
      "metadata": {
        "colab": {
          "base_uri": "https://localhost:8080/"
        },
        "id": "PSf2kuCE19vg",
        "outputId": "cc898d96-3ab2-4bb5-fc1b-2d6e0f989f0f"
      },
      "outputs": [
        {
          "output_type": "execute_result",
          "data": {
            "text/plain": [
              "2"
            ]
          },
          "metadata": {},
          "execution_count": 18
        }
      ],
      "source": [
        "# Save index of word 'happy' into the 'n' variable\n",
        "n = word2Ind['happy']\n",
        "\n",
        "# Print index of word 'happy'\n",
        "n"
      ]
    },
    {
      "cell_type": "markdown",
      "metadata": {
        "id": "cat7cN_419vq"
      },
      "source": [
        "Now create a vector with the size of the vocabulary, and fill it with zeros."
      ]
    },
    {
      "cell_type": "code",
      "execution_count": 19,
      "metadata": {
        "colab": {
          "base_uri": "https://localhost:8080/"
        },
        "id": "P2DGiOs619vs",
        "outputId": "18ed6740-f003-4fac-b0d3-977d8159c9cc"
      },
      "outputs": [
        {
          "output_type": "execute_result",
          "data": {
            "text/plain": [
              "array([0., 0., 0., 0., 0.])"
            ]
          },
          "metadata": {},
          "execution_count": 19
        }
      ],
      "source": [
        "# Create vector with the same length as the vocabulary, filled with zeros\n",
        "center_word_vector = np.zeros(V)\n",
        "\n",
        "# Print vector\n",
        "center_word_vector"
      ]
    },
    {
      "cell_type": "markdown",
      "metadata": {
        "id": "n2zuT82A19vs"
      },
      "source": [
        "You can confirm that the vector has the right size."
      ]
    },
    {
      "cell_type": "code",
      "execution_count": 20,
      "metadata": {
        "colab": {
          "base_uri": "https://localhost:8080/"
        },
        "id": "Kv23qjPx19vt",
        "outputId": "c1b9898f-d8c9-41ae-e604-6f3938c0ca61"
      },
      "outputs": [
        {
          "output_type": "execute_result",
          "data": {
            "text/plain": [
              "True"
            ]
          },
          "metadata": {},
          "execution_count": 20
        }
      ],
      "source": [
        "# Assert that the length of the vector is the same as the size of the vocabulary\n",
        "len(center_word_vector) == V"
      ]
    },
    {
      "cell_type": "markdown",
      "metadata": {
        "id": "bW4ka51419vt"
      },
      "source": [
        "Next, replace the 0 of the $n$-th element with a 1."
      ]
    },
    {
      "cell_type": "code",
      "execution_count": 21,
      "metadata": {
        "id": "Hq_MvzEj19vt"
      },
      "outputs": [],
      "source": [
        "# Replace element number 'n' with a 1\n",
        "center_word_vector[n] = 1"
      ]
    },
    {
      "cell_type": "markdown",
      "metadata": {
        "id": "7cYLYEG819vu"
      },
      "source": [
        "And you have your one-hot word vector."
      ]
    },
    {
      "cell_type": "code",
      "execution_count": 22,
      "metadata": {
        "colab": {
          "base_uri": "https://localhost:8080/"
        },
        "id": "3CCo2Dvl19vu",
        "outputId": "2b80074e-3f02-42e6-ed0c-6da728245b2d"
      },
      "outputs": [
        {
          "output_type": "execute_result",
          "data": {
            "text/plain": [
              "array([0., 0., 1., 0., 0.])"
            ]
          },
          "metadata": {},
          "execution_count": 22
        }
      ],
      "source": [
        "# Print vector\n",
        "center_word_vector"
      ]
    },
    {
      "cell_type": "markdown",
      "metadata": {
        "id": "Ms7h7MPs19vu"
      },
      "source": [
        "**You can now group all of these steps in a convenient function, which takes as parameters: a word to be encoded, a dictionary that maps words to indices, and the size of the vocabulary.**"
      ]
    },
    {
      "cell_type": "code",
      "execution_count": 23,
      "metadata": {
        "id": "AxhvtKhN19vv"
      },
      "outputs": [],
      "source": [
        "# Define the 'word_to_one_hot_vector' function that will include the steps previously seen\n",
        "def word_to_one_hot_vector(word, word2Ind, V):\n",
        "    one_hot_vector = np.zeros(V)\n",
        "    one_hot_vector[word2Ind[word]] = 1\n",
        "    return one_hot_vector"
      ]
    },
    {
      "cell_type": "markdown",
      "metadata": {
        "id": "Oe7vEYy619vv"
      },
      "source": [
        "Check that it works as intended."
      ]
    },
    {
      "cell_type": "code",
      "execution_count": 24,
      "metadata": {
        "colab": {
          "base_uri": "https://localhost:8080/"
        },
        "id": "WyLOXYvP19vv",
        "outputId": "a88f32fc-8b8d-4e39-c80f-556a8ff33db2"
      },
      "outputs": [
        {
          "output_type": "execute_result",
          "data": {
            "text/plain": [
              "array([0., 0., 1., 0., 0.])"
            ]
          },
          "metadata": {},
          "execution_count": 24
        }
      ],
      "source": [
        "# Print output of 'word_to_one_hot_vector' function for word 'happy'\n",
        "word_to_one_hot_vector('happy', word2Ind, V)"
      ]
    },
    {
      "cell_type": "markdown",
      "metadata": {
        "id": "HY4Ww4aI19vw"
      },
      "source": [
        "**What is the word vector for \"learning\"?**"
      ]
    },
    {
      "cell_type": "code",
      "execution_count": 25,
      "metadata": {
        "colab": {
          "base_uri": "https://localhost:8080/"
        },
        "id": "ih2xzFpL19vx",
        "outputId": "01a34db4-c61b-4d12-8b40-a00014fd67e6"
      },
      "outputs": [
        {
          "output_type": "execute_result",
          "data": {
            "text/plain": [
              "array([0., 0., 0., 0., 1.])"
            ]
          },
          "metadata": {},
          "execution_count": 25
        }
      ],
      "source": [
        "# Print output of 'word_to_one_hot_vector' function for word 'learning'\n",
        "word_to_one_hot_vector('learning', word2Ind, V)"
      ]
    },
    {
      "cell_type": "markdown",
      "metadata": {
        "id": "Ua412MBe19vy"
      },
      "source": [
        "Expected output:\n",
        "\n",
        "    array([0., 0., 0., 0., 1.])"
      ]
    },
    {
      "cell_type": "markdown",
      "metadata": {
        "id": "u_66gpur19vy"
      },
      "source": [
        "### Getting context word vectors"
      ]
    },
    {
      "cell_type": "markdown",
      "metadata": {
        "id": "zLhzcRG219vy"
      },
      "source": [
        "To create the vectors that represent context words, you will calculate the average of the one-hot vectors representing the individual words.\n",
        "\n",
        "Let's start with a list of context words."
      ]
    },
    {
      "cell_type": "code",
      "execution_count": 26,
      "metadata": {
        "id": "5XDAUB-W19vz"
      },
      "outputs": [],
      "source": [
        "# Define list containing context words\n",
        "context_words = ['i', 'am', 'because', 'i']"
      ]
    },
    {
      "cell_type": "markdown",
      "metadata": {
        "id": "vWM_By3W19vz"
      },
      "source": [
        "Using Python's list comprehension construct and the `word_to_one_hot_vector` function that you created in the previous section, you can create a list of one-hot vectors representing each of the context words."
      ]
    },
    {
      "cell_type": "code",
      "execution_count": 27,
      "metadata": {
        "colab": {
          "base_uri": "https://localhost:8080/"
        },
        "id": "bNRj9rjc19vz",
        "outputId": "be8bd832-f041-48f1-da3a-f09e6ad85011"
      },
      "outputs": [
        {
          "output_type": "execute_result",
          "data": {
            "text/plain": [
              "[array([0., 0., 0., 1., 0.]),\n",
              " array([1., 0., 0., 0., 0.]),\n",
              " array([0., 1., 0., 0., 0.]),\n",
              " array([0., 0., 0., 1., 0.])]"
            ]
          },
          "metadata": {},
          "execution_count": 27
        }
      ],
      "source": [
        "# Create one-hot vectors for each context word using list comprehension\n",
        "context_words_vectors = [word_to_one_hot_vector(w, word2Ind, V) for w in context_words]\n",
        "\n",
        "# Print one-hot vectors for each context word\n",
        "context_words_vectors"
      ]
    },
    {
      "cell_type": "markdown",
      "metadata": {
        "id": "NfkN6XGB19v0"
      },
      "source": [
        "And you can now simply get the average of these vectors using numpy's `mean` function, to get the vector representation of the context words."
      ]
    },
    {
      "cell_type": "code",
      "execution_count": 28,
      "metadata": {
        "colab": {
          "base_uri": "https://localhost:8080/"
        },
        "id": "uiNKaTTj19v0",
        "outputId": "5d0401ad-2539-4786-b26f-09166b8594cb"
      },
      "outputs": [
        {
          "output_type": "execute_result",
          "data": {
            "text/plain": [
              "array([0.25, 0.25, 0.  , 0.5 , 0.  ])"
            ]
          },
          "metadata": {},
          "execution_count": 28
        }
      ],
      "source": [
        "# Compute mean of the vectors using numpy\n",
        "np.mean(context_words_vectors, axis=0)"
      ]
    },
    {
      "cell_type": "markdown",
      "metadata": {
        "id": "cbdj9R-r19v0"
      },
      "source": [
        "Note the `axis=0` parameter that tells `mean` to calculate the average of the rows (if you had wanted the average of the columns, you would have used `axis=1`).\n",
        "\n",
        "**Now create the `context_words_to_vector` function that takes in a list of context words, a word-to-index dictionary, and a vocabulary size, and outputs the vector representation of the context words.**"
      ]
    },
    {
      "cell_type": "code",
      "execution_count": 29,
      "metadata": {
        "id": "MaX0jtws19v1"
      },
      "outputs": [],
      "source": [
        "# Define the 'context_words_to_vector' function that will include the steps previously seen\n",
        "def context_words_to_vector(context_words, word2Ind, V):\n",
        "    context_words_vectors = [word_to_one_hot_vector(w, word2Ind, V) for w in context_words]\n",
        "    context_words_vectors = np.mean(context_words_vectors, axis=0)\n",
        "    return context_words_vectors"
      ]
    },
    {
      "cell_type": "markdown",
      "metadata": {
        "id": "Dp4ve2hW19v1"
      },
      "source": [
        "And check that you obtain the same output as the manual approach above."
      ]
    },
    {
      "cell_type": "code",
      "execution_count": 30,
      "metadata": {
        "colab": {
          "base_uri": "https://localhost:8080/"
        },
        "id": "98RoOBzB19v1",
        "outputId": "6d317c6c-1bde-4a49-8e74-d3fc3d96176f"
      },
      "outputs": [
        {
          "output_type": "execute_result",
          "data": {
            "text/plain": [
              "array([0.25, 0.25, 0.  , 0.5 , 0.  ])"
            ]
          },
          "metadata": {},
          "execution_count": 30
        }
      ],
      "source": [
        "# Print output of 'context_words_to_vector' function for context words: 'i', 'am', 'because', 'i'\n",
        "context_words_to_vector(['i', 'am', 'because', 'i'], word2Ind, V)"
      ]
    },
    {
      "cell_type": "markdown",
      "metadata": {
        "id": "Tr2nh17R19v2"
      },
      "source": [
        "**What is the vector representation of the context words \"am happy i am\"?**"
      ]
    },
    {
      "cell_type": "code",
      "execution_count": 31,
      "metadata": {
        "colab": {
          "base_uri": "https://localhost:8080/"
        },
        "id": "dAJUk4vs19v2",
        "outputId": "2ddcc230-14e1-40e0-850d-c219af233626"
      },
      "outputs": [
        {
          "output_type": "execute_result",
          "data": {
            "text/plain": [
              "array([0.5 , 0.  , 0.25, 0.25, 0.  ])"
            ]
          },
          "metadata": {},
          "execution_count": 31
        }
      ],
      "source": [
        "# Print output of 'context_words_to_vector' function for context words: 'am', 'happy', 'i', 'am'\n",
        "context_words_to_vector(['am', 'happy', 'i', 'am'], word2Ind, V)"
      ]
    },
    {
      "cell_type": "markdown",
      "metadata": {
        "id": "Xm5h6TAL19v2"
      },
      "source": [
        "Expected output:\n",
        "\n",
        "    array([0.5 , 0.  , 0.25, 0.25, 0.  ])"
      ]
    },
    {
      "cell_type": "markdown",
      "metadata": {
        "id": "Bmt_Czqq19v2"
      },
      "source": [
        "\n",
        "## Building the training set"
      ]
    },
    {
      "cell_type": "markdown",
      "metadata": {
        "id": "hNJSegIg19v3"
      },
      "source": [
        "You can now combine the functions that you created in the previous sections, to build a training set for the CBOW model, starting from the following tokenized corpus."
      ]
    },
    {
      "cell_type": "code",
      "execution_count": 32,
      "metadata": {
        "colab": {
          "base_uri": "https://localhost:8080/"
        },
        "id": "qGRhbFQ619v3",
        "outputId": "5eafc129-6321-4b74-cbb1-a341ff9c6fb7"
      },
      "outputs": [
        {
          "output_type": "execute_result",
          "data": {
            "text/plain": [
              "['i', 'am', 'happy', 'because', 'i', 'am', 'learning']"
            ]
          },
          "metadata": {},
          "execution_count": 32
        }
      ],
      "source": [
        "# Print corpus\n",
        "words"
      ]
    },
    {
      "cell_type": "markdown",
      "metadata": {
        "id": "iNW3U_Eo19v4"
      },
      "source": [
        "To do this you need to use the sliding window function (`get_windows`) to extract the context words and center words, and you then convert these sets of words into a basic vector representation using `word_to_one_hot_vector` and `context_words_to_vector`."
      ]
    },
    {
      "cell_type": "code",
      "execution_count": 33,
      "metadata": {
        "colab": {
          "base_uri": "https://localhost:8080/"
        },
        "id": "l55B1oIO19v4",
        "outputId": "357edc1c-3bbd-477d-edc5-fe9224a68bff"
      },
      "outputs": [
        {
          "output_type": "stream",
          "name": "stdout",
          "text": [
            "Context words:  ['i', 'am', 'because', 'i'] -> [0.25 0.25 0.   0.5  0.  ]\n",
            "Center word:  happy -> [0. 0. 1. 0. 0.]\n",
            "\n",
            "Context words:  ['am', 'happy', 'i', 'am'] -> [0.5  0.   0.25 0.25 0.  ]\n",
            "Center word:  because -> [0. 1. 0. 0. 0.]\n",
            "\n",
            "Context words:  ['happy', 'because', 'am', 'learning'] -> [0.25 0.25 0.25 0.   0.25]\n",
            "Center word:  i -> [0. 0. 0. 1. 0.]\n",
            "\n"
          ]
        }
      ],
      "source": [
        "# Print vectors associated to center and context words for corpus\n",
        "for context_words, center_word in get_windows(words, 2):  # reminder: 2 is the context half-size\n",
        "    print(f'Context words:  {context_words} -> {context_words_to_vector(context_words, word2Ind, V)}')\n",
        "    print(f'Center word:  {center_word} -> {word_to_one_hot_vector(center_word, word2Ind, V)}')\n",
        "    print()"
      ]
    },
    {
      "cell_type": "markdown",
      "metadata": {
        "id": "NP7Pjbql19v4"
      },
      "source": [
        "In this practice notebook you'll be performing a single iteration of training using a single example, but in this week's assignment you'll train the CBOW model using several iterations and batches of example.\n",
        "Here is how you would use a Python generator function (remember the `yield` keyword from the lecture?) to make it easier to iterate over a set of examples."
      ]
    },
    {
      "cell_type": "code",
      "execution_count": 34,
      "metadata": {
        "id": "yu8lMIAC19v5"
      },
      "outputs": [],
      "source": [
        "# Define the generator function 'get_training_example'\n",
        "def get_training_example(words, C, word2Ind, V):\n",
        "    for context_words, center_word in get_windows(words, C):\n",
        "        yield context_words_to_vector(context_words, word2Ind, V), word_to_one_hot_vector(center_word, word2Ind, V)"
      ]
    },
    {
      "cell_type": "markdown",
      "metadata": {
        "id": "h4f5N9e519v5"
      },
      "source": [
        "The output of this function can be iterated on to get successive context word vectors and center word vectors, as demonstrated in the next cell."
      ]
    },
    {
      "cell_type": "code",
      "execution_count": 35,
      "metadata": {
        "colab": {
          "base_uri": "https://localhost:8080/"
        },
        "id": "DTQp2XuV19v5",
        "outputId": "12daa50a-d8b4-4a8c-c68e-4b927f1bece5"
      },
      "outputs": [
        {
          "output_type": "stream",
          "name": "stdout",
          "text": [
            "Context words vector:  [0.25 0.25 0.   0.5  0.  ]\n",
            "Center word vector:  [0. 0. 1. 0. 0.]\n",
            "\n",
            "Context words vector:  [0.5  0.   0.25 0.25 0.  ]\n",
            "Center word vector:  [0. 1. 0. 0. 0.]\n",
            "\n",
            "Context words vector:  [0.25 0.25 0.25 0.   0.25]\n",
            "Center word vector:  [0. 0. 0. 1. 0.]\n",
            "\n"
          ]
        }
      ],
      "source": [
        "# Print vectors associated to center and context words for corpus using the generator function\n",
        "for context_words_vector, center_word_vector in get_training_example(words, 2, word2Ind, V):\n",
        "    print(f'Context words vector:  {context_words_vector}')\n",
        "    print(f'Center word vector:  {center_word_vector}')\n",
        "    print()"
      ]
    },
    {
      "cell_type": "markdown",
      "metadata": {
        "id": "jrAFOgBz19v6"
      },
      "source": [
        "Your training set is ready, you can now move on to the CBOW model itself which will be covered in the next lecture notebook.\n",
        "\n",
        "**Congratulations on finishing this lecture notebook!** Hopefully you now have a better understanding of how to prepare your data before feeding it to a continuous bag-of-words model.\n",
        "\n",
        "**Keep it up!**"
      ]
    }
  ],
  "metadata": {
    "kernelspec": {
      "display_name": "Python 3",
      "language": "python",
      "name": "python3"
    },
    "language_info": {
      "codemirror_mode": {
        "name": "ipython",
        "version": 3
      },
      "file_extension": ".py",
      "mimetype": "text/x-python",
      "name": "python",
      "nbconvert_exporter": "python",
      "pygments_lexer": "ipython3",
      "version": "3.7.6"
    },
    "colab": {
      "provenance": [],
      "include_colab_link": true
    }
  },
  "nbformat": 4,
  "nbformat_minor": 0
}