{
  "cells": [
    {
      "cell_type": "markdown",
      "metadata": {
        "id": "view-in-github",
        "colab_type": "text"
      },
      "source": [
        "<a href=\"https://colab.research.google.com/github/ananmhrd/machine_learning/blob/main/Coursera/Natural%20Language%20Processing%20with%20Probabilistic%20Models/Modul%204/Word%20Embeddings%3A%20Ungraded%20Practice%20Notebook/C2_W4_lecture_nb_5_word_embeddings_step_by_step.ipynb\" target=\"_parent\"><img src=\"https://colab.research.google.com/assets/colab-badge.svg\" alt=\"Open In Colab\"/></a>"
      ]
    },
    {
      "cell_type": "markdown",
      "metadata": {
        "id": "efmOTYRnGjpe"
      },
      "source": [
        "# Word Embeddings: Ungraded Practice Notebook\n",
        "\n",
        "In this ungraded notebook, you'll try out all the individual techniques that you learned about in the lecture. Practicing on small examples will prepare you for the graded assignment, where you will combine the techniques in more advanced ways to create word embeddings from a real-life corpus.\n",
        "\n",
        "This notebook is made of two main parts: data preparation, and the continuous bag-of-words (CBOW) model.\n",
        "\n",
        "To get started, import and initialize all the libraries you will need."
      ]
    },
    {
      "cell_type": "code",
      "execution_count": 1,
      "metadata": {
        "colab": {
          "base_uri": "https://localhost:8080/"
        },
        "id": "U3zTIGXPGjpp",
        "outputId": "0314106f-8285-47ea-a7a0-893c767eb513"
      },
      "outputs": [
        {
          "output_type": "stream",
          "name": "stdout",
          "text": [
            "Requirement already satisfied: emoji in /usr/local/lib/python3.10/dist-packages (2.6.0)\n"
          ]
        }
      ],
      "source": [
        "import sys\n",
        "!{sys.executable} -m pip install emoji"
      ]
    },
    {
      "cell_type": "code",
      "execution_count": 2,
      "metadata": {
        "colab": {
          "base_uri": "https://localhost:8080/"
        },
        "id": "btGqzkZ5Gjps",
        "outputId": "fc5a6e5c-63a9-4aa8-c71e-1afb0aaacf77"
      },
      "outputs": [
        {
          "output_type": "stream",
          "name": "stdout",
          "text": [
            "fatal: destination path 'machine_learning' already exists and is not an empty directory.\n"
          ]
        },
        {
          "output_type": "stream",
          "name": "stderr",
          "text": [
            "[nltk_data] Downloading package punkt to /root/nltk_data...\n",
            "[nltk_data]   Package punkt is already up-to-date!\n"
          ]
        },
        {
          "output_type": "execute_result",
          "data": {
            "text/plain": [
              "True"
            ]
          },
          "metadata": {},
          "execution_count": 2
        }
      ],
      "source": [
        "import re\n",
        "import nltk\n",
        "from nltk.tokenize import word_tokenize\n",
        "import emoji\n",
        "import numpy as np\n",
        "\n",
        "!git clone https://github.com/ananmhrd/machine_learning.git\n",
        "!cp /content/machine_learning/Coursera/Natural\\ Language\\ Processing\\ with\\ Probabilistic\\ Models\\/Modul\\ 4\\/Word\\ Embeddings:\\ Ungraded\\ Practice\\ Notebook\\/utils2.py /content\n",
        "from utils2 import get_dict\n",
        "\n",
        "nltk.download('punkt')  # download pre-trained Punkt tokenizer for English"
      ]
    },
    {
      "cell_type": "markdown",
      "metadata": {
        "id": "K7WMy5HKGjpt"
      },
      "source": [
        "# Data preparation"
      ]
    },
    {
      "cell_type": "markdown",
      "metadata": {
        "id": "3lK0C0fwGjpv"
      },
      "source": [
        "In the data preparation phase, starting with a corpus of text, you will:\n",
        "\n",
        "- Clean and tokenize the corpus.\n",
        "\n",
        "- Extract the pairs of context words and center word that will make up the training data set for the CBOW model. The context words are the features that will be fed into the model, and the center words are the target values that the model will learn to predict.\n",
        "\n",
        "- Create simple vector representations of the context words (features) and center words (targets) that can be used by the neural network of the CBOW model."
      ]
    },
    {
      "cell_type": "markdown",
      "metadata": {
        "id": "711ZQk6AGjpw"
      },
      "source": [
        "## Cleaning and tokenization\n",
        "\n",
        "To demonstrate the cleaning and tokenization process, consider a corpus that contains emojis and various punctuation signs."
      ]
    },
    {
      "cell_type": "code",
      "execution_count": 3,
      "metadata": {
        "id": "MTou2qZxGjpx"
      },
      "outputs": [],
      "source": [
        "corpus = 'Who ❤️ \"word embeddings\" in 2020? I do!!!'"
      ]
    },
    {
      "cell_type": "markdown",
      "metadata": {
        "id": "pjFuBoqUGjpz"
      },
      "source": [
        "First, replace all interrupting punctuation signs — such as commas and exclamation marks — with periods."
      ]
    },
    {
      "cell_type": "code",
      "execution_count": 4,
      "metadata": {
        "colab": {
          "base_uri": "https://localhost:8080/"
        },
        "id": "xaDAd2OqGjp1",
        "outputId": "e1ed1a61-bccf-4ed3-ea13-33132f4e5981"
      },
      "outputs": [
        {
          "output_type": "stream",
          "name": "stdout",
          "text": [
            "Corpus:  Who ❤️ \"word embeddings\" in 2020? I do!!!\n",
            "After cleaning punctuation:  Who ❤️ \"word embeddings\" in 2020. I do.\n"
          ]
        }
      ],
      "source": [
        "print(f'Corpus:  {corpus}')\n",
        "data = re.sub(r'[,!?;-]+', '.', corpus)\n",
        "print(f'After cleaning punctuation:  {data}')"
      ]
    },
    {
      "cell_type": "markdown",
      "metadata": {
        "id": "xoEFBydAGjp2"
      },
      "source": [
        "Next, use NLTK's tokenization engine to split the corpus into individual tokens."
      ]
    },
    {
      "cell_type": "code",
      "execution_count": 5,
      "metadata": {
        "colab": {
          "base_uri": "https://localhost:8080/"
        },
        "id": "b1vWHFCRGjp3",
        "outputId": "3cce40ac-c800-469e-af8d-a195a52ffba9"
      },
      "outputs": [
        {
          "output_type": "stream",
          "name": "stdout",
          "text": [
            "Initial string:  Who ❤️ \"word embeddings\" in 2020. I do.\n",
            "After tokenization:  ['Who', '❤️', '``', 'word', 'embeddings', \"''\", 'in', '2020', '.', 'I', 'do', '.']\n"
          ]
        }
      ],
      "source": [
        "print(f'Initial string:  {data}')\n",
        "data = nltk.word_tokenize(data)\n",
        "print(f'After tokenization:  {data}')"
      ]
    },
    {
      "cell_type": "markdown",
      "metadata": {
        "id": "g2byKKvgGjp4"
      },
      "source": [
        "Finally, as you saw in the lecture, get rid of numbers and punctuation other than periods, and convert all the remaining tokens to lowercase."
      ]
    },
    {
      "cell_type": "code",
      "execution_count": 6,
      "metadata": {
        "colab": {
          "base_uri": "https://localhost:8080/"
        },
        "id": "vht7Q2acGjp4",
        "outputId": "0b312ff1-62f6-42e4-d196-402f85807190"
      },
      "outputs": [
        {
          "output_type": "stream",
          "name": "stdout",
          "text": [
            "Initial list of tokens:  ['Who', '❤️', '``', 'word', 'embeddings', \"''\", 'in', '2020', '.', 'I', 'do', '.']\n",
            "After cleaning:  ['who', '❤️', 'word', 'embeddings', 'in', '.', 'i', 'do', '.']\n"
          ]
        }
      ],
      "source": [
        "print(f'Initial list of tokens:  {data}')\n",
        "\n",
        "# Define the regular expression pattern for matching emojis\n",
        "emoji_pattern = re.compile(\"[\"\n",
        "                           u\"\\U0001F600-\\U0001F64F\"  # emoticons\n",
        "                           u\"\\U0001F300-\\U0001F5FF\"  # symbols & pictographs\n",
        "                           u\"\\U0001F680-\\U0001F6FF\"  # transport & map symbols\n",
        "                           u\"\\U0001F1E0-\\U0001F1FF\"  # flags (iOS)\n",
        "                           u\"\\U00002702-\\U000027B0\"\n",
        "                           u\"\\U000024C2-\\U0001F251\"\n",
        "                           \"]+\", flags=re.UNICODE)\n",
        "\n",
        "data = [ ch.lower() for ch in data\n",
        "         if ch.isalpha()\n",
        "         or ch == '.'\n",
        "         or emoji_pattern.search(ch)\n",
        "       ]\n",
        "print(f'After cleaning:  {data}')"
      ]
    },
    {
      "cell_type": "markdown",
      "metadata": {
        "id": "wGVZMu_JGjp5"
      },
      "source": [
        "Note that the heart emoji is considered as a token just like any normal word.\n",
        "\n",
        "Now let's streamline the cleaning and tokenization process by wrapping the previous steps in a function."
      ]
    },
    {
      "cell_type": "code",
      "execution_count": 7,
      "metadata": {
        "id": "_XJPFZkaGjp5"
      },
      "outputs": [],
      "source": [
        "def tokenize(corpus):\n",
        "    data = re.sub(r'[,!?;-]+', '.', corpus)\n",
        "    data = nltk.word_tokenize(data)  # tokenize string to words\n",
        "    data = [ ch.lower() for ch in data\n",
        "             if ch.isalpha()\n",
        "             or ch == '.'\n",
        "             or emoji_pattern.search(ch)\n",
        "           ]\n",
        "    return data"
      ]
    },
    {
      "cell_type": "markdown",
      "metadata": {
        "id": "h7ZoRAI_Gjp6"
      },
      "source": [
        "Apply this function to the corpus that you'll be working on in the rest of this notebook: \"I am happy because I am learning\""
      ]
    },
    {
      "cell_type": "code",
      "execution_count": 8,
      "metadata": {
        "colab": {
          "base_uri": "https://localhost:8080/"
        },
        "id": "WeIHboyTGjp6",
        "outputId": "0fc3764c-6bc3-43ec-d57f-27feab6450b6"
      },
      "outputs": [
        {
          "output_type": "stream",
          "name": "stdout",
          "text": [
            "Corpus:  I am happy because I am learning\n",
            "Words (tokens):  ['i', 'am', 'happy', 'because', 'i', 'am', 'learning']\n"
          ]
        }
      ],
      "source": [
        "corpus = 'I am happy because I am learning'\n",
        "print(f'Corpus:  {corpus}')\n",
        "words = tokenize(corpus)\n",
        "print(f'Words (tokens):  {words}')"
      ]
    },
    {
      "cell_type": "markdown",
      "metadata": {
        "id": "CWeTXrEuGjp7"
      },
      "source": [
        "**Now try it out yourself with your own sentence.**"
      ]
    },
    {
      "cell_type": "code",
      "execution_count": 9,
      "metadata": {
        "colab": {
          "base_uri": "https://localhost:8080/"
        },
        "id": "ekJUla2TGjp8",
        "outputId": "4575b0d1-810a-4f6f-f231-8644cb10361b"
      },
      "outputs": [
        {
          "output_type": "execute_result",
          "data": {
            "text/plain": [
              "['now', 'it', 'your', 'turn', 'try', 'with', 'your', 'own', 'sentence', '.']"
            ]
          },
          "metadata": {},
          "execution_count": 9
        }
      ],
      "source": [
        "tokenize(\"Now it's your turn: try with your own sentence!\")"
      ]
    },
    {
      "cell_type": "markdown",
      "metadata": {
        "id": "5kLedu-HGjp8"
      },
      "source": [
        "## Sliding window of words"
      ]
    },
    {
      "cell_type": "markdown",
      "metadata": {
        "id": "De3b5qT4Gjp9"
      },
      "source": [
        "Now that you have transformed the corpus into a list of clean tokens, you can slide a window of words across this list. For each window you can extract a center word and the context words.\n",
        "\n",
        "The `get_windows` function in the next cell was introduced in the lecture."
      ]
    },
    {
      "cell_type": "code",
      "execution_count": 10,
      "metadata": {
        "id": "c7TyaSUNGjp9"
      },
      "outputs": [],
      "source": [
        "def get_windows(words, C):\n",
        "    i = C\n",
        "    while i < len(words) - C:\n",
        "        center_word = words[i]\n",
        "        context_words = words[(i - C):i] + words[(i+1):(i+C+1)]\n",
        "        yield context_words, center_word\n",
        "        i += 1"
      ]
    },
    {
      "cell_type": "markdown",
      "metadata": {
        "id": "xG1iPZTjGjp_"
      },
      "source": [
        "The first argument of this function is a list of words (or tokens). The second argument, `C`, is the context half-size. Recall that for a given center word, the context words are made of `C` words to the left and `C` words to the right of the center word.\n",
        "\n",
        "Here is how you can use this function to extract context words and center words from a list of tokens. These context and center words will make up the training set that you will use to train the CBOW model."
      ]
    },
    {
      "cell_type": "code",
      "execution_count": 11,
      "metadata": {
        "colab": {
          "base_uri": "https://localhost:8080/"
        },
        "id": "L2tbGA7-GjqA",
        "outputId": "08b0be54-4731-458f-8794-ee468db8c307"
      },
      "outputs": [
        {
          "output_type": "stream",
          "name": "stdout",
          "text": [
            "['i', 'am', 'because', 'i']\thappy\n",
            "['am', 'happy', 'i', 'am']\tbecause\n",
            "['happy', 'because', 'am', 'learning']\ti\n"
          ]
        }
      ],
      "source": [
        "for x, y in get_windows(\n",
        "            ['i', 'am', 'happy', 'because', 'i', 'am', 'learning'],\n",
        "            2\n",
        "        ):\n",
        "    print(f'{x}\\t{y}')"
      ]
    },
    {
      "cell_type": "markdown",
      "metadata": {
        "id": "aoumu6YgGjqA"
      },
      "source": [
        "The first example of the training set is made of:\n",
        "\n",
        "- the context words \"i\", \"am\", \"because\", \"i\",\n",
        "\n",
        "- and the center word to be predicted: \"happy\".\n",
        "\n",
        "**Now try it out yourself. In the next cell, you can change both the sentence and the context half-size.**"
      ]
    },
    {
      "cell_type": "code",
      "execution_count": 12,
      "metadata": {
        "colab": {
          "base_uri": "https://localhost:8080/"
        },
        "id": "XTJmL5NdGjqB",
        "outputId": "9e6ad1db-5d14-4e0d-c92d-dc703f607ca3"
      },
      "outputs": [
        {
          "output_type": "stream",
          "name": "stdout",
          "text": [
            "['now', 'your']\tit\n",
            "['it', 'turn']\tyour\n",
            "['your', 'try']\tturn\n",
            "['turn', 'with']\ttry\n",
            "['try', 'your']\twith\n",
            "['with', 'own']\tyour\n",
            "['your', 'sentence']\town\n",
            "['own', '.']\tsentence\n"
          ]
        }
      ],
      "source": [
        "for x, y in get_windows(tokenize(\"Now it's your turn: try with your own sentence!\"), 1):\n",
        "    print(f'{x}\\t{y}')"
      ]
    },
    {
      "cell_type": "markdown",
      "metadata": {
        "id": "80iz2oZrGjqB"
      },
      "source": [
        "## Transforming words into vectors for the training set"
      ]
    },
    {
      "cell_type": "markdown",
      "metadata": {
        "id": "D9CQIpCqGjqB"
      },
      "source": [
        "To finish preparing the training set, you need to transform the context words and center words into vectors.\n",
        "\n",
        "### Mapping words to indices and indices to words\n",
        "\n",
        "The center words will be represented as one-hot vectors, and the vectors that represent context words are also based on one-hot vectors.\n",
        "\n",
        "To create one-hot word vectors, you can start by mapping each unique word to a unique integer (or index). We have provided a helper function, `get_dict`, that creates a Python dictionary that maps words to integers and back."
      ]
    },
    {
      "cell_type": "code",
      "execution_count": 13,
      "metadata": {
        "id": "Swo495sDGjqC"
      },
      "outputs": [],
      "source": [
        "word2Ind, Ind2word = get_dict(words)"
      ]
    },
    {
      "cell_type": "markdown",
      "metadata": {
        "id": "SbipunDyGjqD"
      },
      "source": [
        "Here's the dictionary that maps words to numeric indices."
      ]
    },
    {
      "cell_type": "code",
      "execution_count": 14,
      "metadata": {
        "scrolled": true,
        "colab": {
          "base_uri": "https://localhost:8080/"
        },
        "id": "J2CbEENmGjqD",
        "outputId": "ceee5a15-09bd-40f3-b380-a6da4f6a6933"
      },
      "outputs": [
        {
          "output_type": "execute_result",
          "data": {
            "text/plain": [
              "{'am': 0, 'because': 1, 'happy': 2, 'i': 3, 'learning': 4}"
            ]
          },
          "metadata": {},
          "execution_count": 14
        }
      ],
      "source": [
        "word2Ind"
      ]
    },
    {
      "cell_type": "markdown",
      "metadata": {
        "id": "GPqnnyOnGjqF"
      },
      "source": [
        "You can use this dictionary to get the index of a word."
      ]
    },
    {
      "cell_type": "code",
      "execution_count": 15,
      "metadata": {
        "colab": {
          "base_uri": "https://localhost:8080/"
        },
        "id": "SzCKOz0eGjqF",
        "outputId": "c78caa79-4f96-42ff-c48a-7fb06a3fe156"
      },
      "outputs": [
        {
          "output_type": "stream",
          "name": "stdout",
          "text": [
            "Index of the word 'i':   3\n"
          ]
        }
      ],
      "source": [
        "print(\"Index of the word 'i':  \",word2Ind['i'])"
      ]
    },
    {
      "cell_type": "markdown",
      "metadata": {
        "id": "GnN2iNuqGjqF"
      },
      "source": [
        "And conversely, here's the dictionary that maps indices to words."
      ]
    },
    {
      "cell_type": "code",
      "execution_count": 16,
      "metadata": {
        "colab": {
          "base_uri": "https://localhost:8080/"
        },
        "id": "Ki_fwQQxGjqG",
        "outputId": "036f4083-1a72-4135-a9be-f87f9acd90b8"
      },
      "outputs": [
        {
          "output_type": "execute_result",
          "data": {
            "text/plain": [
              "{0: 'am', 1: 'because', 2: 'happy', 3: 'i', 4: 'learning'}"
            ]
          },
          "metadata": {},
          "execution_count": 16
        }
      ],
      "source": [
        "Ind2word"
      ]
    },
    {
      "cell_type": "code",
      "execution_count": 17,
      "metadata": {
        "scrolled": true,
        "colab": {
          "base_uri": "https://localhost:8080/"
        },
        "id": "VhYQqAHHGjqG",
        "outputId": "ab739dae-e97d-4c12-e06a-653b8a901c45"
      },
      "outputs": [
        {
          "output_type": "stream",
          "name": "stdout",
          "text": [
            "Word which has index 2:   happy\n"
          ]
        }
      ],
      "source": [
        "print(\"Word which has index 2:  \",Ind2word[2] )"
      ]
    },
    {
      "cell_type": "markdown",
      "metadata": {
        "id": "WPag02fcGjqG"
      },
      "source": [
        "Finally, get the length of either of these dictionaries to get the size of the vocabulary of your corpus, in other words the number of different words making up the corpus."
      ]
    },
    {
      "cell_type": "code",
      "execution_count": 18,
      "metadata": {
        "colab": {
          "base_uri": "https://localhost:8080/"
        },
        "id": "k32PJ5tWGjqH",
        "outputId": "25edd3d5-e84d-4ed0-929e-dbd6ecc3a488"
      },
      "outputs": [
        {
          "output_type": "stream",
          "name": "stdout",
          "text": [
            "Size of vocabulary:  5\n"
          ]
        }
      ],
      "source": [
        "V = len(word2Ind)\n",
        "print(\"Size of vocabulary: \", V)"
      ]
    },
    {
      "cell_type": "markdown",
      "metadata": {
        "id": "kyKqvZXpGjqH"
      },
      "source": [
        "### Getting one-hot word vectors\n",
        "\n",
        "Recall from the lecture that you can easily convert an integer, $n$, into a one-hot vector.\n",
        "\n",
        "Consider the word \"happy\". First, retrieve its numeric index."
      ]
    },
    {
      "cell_type": "code",
      "execution_count": 19,
      "metadata": {
        "colab": {
          "base_uri": "https://localhost:8080/"
        },
        "id": "jP1-_mVgGjqT",
        "outputId": "328b9d18-9e53-4647-cde2-650e40cbb884"
      },
      "outputs": [
        {
          "output_type": "execute_result",
          "data": {
            "text/plain": [
              "2"
            ]
          },
          "metadata": {},
          "execution_count": 19
        }
      ],
      "source": [
        "n = word2Ind['happy']\n",
        "n"
      ]
    },
    {
      "cell_type": "markdown",
      "metadata": {
        "id": "cNNNdxdbGjqU"
      },
      "source": [
        "Now create a vector with the size of the vocabulary, and fill it with zeros."
      ]
    },
    {
      "cell_type": "code",
      "execution_count": 20,
      "metadata": {
        "colab": {
          "base_uri": "https://localhost:8080/"
        },
        "id": "CThreeKzGjqU",
        "outputId": "3599c73a-9c8b-4278-e6bc-2f4e6219b2aa"
      },
      "outputs": [
        {
          "output_type": "execute_result",
          "data": {
            "text/plain": [
              "array([0., 0., 0., 0., 0.])"
            ]
          },
          "metadata": {},
          "execution_count": 20
        }
      ],
      "source": [
        "center_word_vector = np.zeros(V)\n",
        "center_word_vector"
      ]
    },
    {
      "cell_type": "markdown",
      "metadata": {
        "id": "3ZFcinwoGjqV"
      },
      "source": [
        "You can confirm that the vector has the right size."
      ]
    },
    {
      "cell_type": "code",
      "execution_count": 21,
      "metadata": {
        "colab": {
          "base_uri": "https://localhost:8080/"
        },
        "id": "LRyWlQVfGjqW",
        "outputId": "88776cb5-471f-481b-8529-2f51aa839ee0"
      },
      "outputs": [
        {
          "output_type": "execute_result",
          "data": {
            "text/plain": [
              "True"
            ]
          },
          "metadata": {},
          "execution_count": 21
        }
      ],
      "source": [
        "len(center_word_vector) == V"
      ]
    },
    {
      "cell_type": "markdown",
      "metadata": {
        "id": "GsMunbIlGjqW"
      },
      "source": [
        "Next, replace the 0 of the $n$-th element with a 1."
      ]
    },
    {
      "cell_type": "code",
      "execution_count": 22,
      "metadata": {
        "id": "T8HgcnwdGjqW"
      },
      "outputs": [],
      "source": [
        "center_word_vector[n] = 1"
      ]
    },
    {
      "cell_type": "markdown",
      "metadata": {
        "id": "DPm31wwvGjqX"
      },
      "source": [
        "And you have your one-hot word vector."
      ]
    },
    {
      "cell_type": "code",
      "execution_count": 23,
      "metadata": {
        "colab": {
          "base_uri": "https://localhost:8080/"
        },
        "id": "L-LoTe1fGjqX",
        "outputId": "a9128c6a-d3b5-4dfb-8d99-fc15130cccdf"
      },
      "outputs": [
        {
          "output_type": "execute_result",
          "data": {
            "text/plain": [
              "array([0., 0., 1., 0., 0.])"
            ]
          },
          "metadata": {},
          "execution_count": 23
        }
      ],
      "source": [
        "center_word_vector"
      ]
    },
    {
      "cell_type": "markdown",
      "metadata": {
        "id": "xaZ0X0ncGjqY"
      },
      "source": [
        "**You can now group all of these steps in a convenient function, which takes as parameters: a word to be encoded, a dictionary that maps words to indices, and the size of the vocabulary.**"
      ]
    },
    {
      "cell_type": "code",
      "execution_count": 24,
      "metadata": {
        "id": "G_Pe4lh7GjqY"
      },
      "outputs": [],
      "source": [
        "def word_to_one_hot_vector(word, word2Ind, V):\n",
        "    one_hot_vector = np.zeros(V)\n",
        "    one_hot_vector[word2Ind[word]] = 1\n",
        "\n",
        "    return one_hot_vector"
      ]
    },
    {
      "cell_type": "markdown",
      "metadata": {
        "id": "WJfEAqtSGjqY"
      },
      "source": [
        "Check that it works as intended."
      ]
    },
    {
      "cell_type": "code",
      "execution_count": 25,
      "metadata": {
        "colab": {
          "base_uri": "https://localhost:8080/"
        },
        "id": "Sosa1WpDGjqZ",
        "outputId": "afc259cc-67da-47d9-83ff-a26e590ed239"
      },
      "outputs": [
        {
          "output_type": "execute_result",
          "data": {
            "text/plain": [
              "array([0., 0., 1., 0., 0.])"
            ]
          },
          "metadata": {},
          "execution_count": 25
        }
      ],
      "source": [
        "word_to_one_hot_vector('happy', word2Ind, V)"
      ]
    },
    {
      "cell_type": "markdown",
      "metadata": {
        "id": "IMgvua4XGjqZ"
      },
      "source": [
        "**What is the word vector for \"learning\"?**"
      ]
    },
    {
      "cell_type": "code",
      "execution_count": 26,
      "metadata": {
        "colab": {
          "base_uri": "https://localhost:8080/"
        },
        "id": "5Y444lnpGjqZ",
        "outputId": "72b2861a-f978-4788-8c45-2d89859695aa"
      },
      "outputs": [
        {
          "output_type": "execute_result",
          "data": {
            "text/plain": [
              "array([0., 0., 0., 0., 1.])"
            ]
          },
          "metadata": {},
          "execution_count": 26
        }
      ],
      "source": [
        "word_to_one_hot_vector('learning', word2Ind, V)"
      ]
    },
    {
      "cell_type": "markdown",
      "metadata": {
        "id": "wjUR97nDGjqa"
      },
      "source": [
        "Expected output:\n",
        "\n",
        "    array([0., 0., 0., 0., 1.])"
      ]
    },
    {
      "cell_type": "markdown",
      "metadata": {
        "id": "sTBEZ_AtGjqa"
      },
      "source": [
        "### Getting context word vectors"
      ]
    },
    {
      "cell_type": "markdown",
      "metadata": {
        "id": "Nx2LM5a_Gjqb"
      },
      "source": [
        "To create the vectors that represent context words, you will calculate the average of the one-hot vectors representing the individual words.\n",
        "\n",
        "Let's start with a list of context words."
      ]
    },
    {
      "cell_type": "code",
      "execution_count": 27,
      "metadata": {
        "id": "pA0gQrJyGjqb"
      },
      "outputs": [],
      "source": [
        "context_words = ['i', 'am', 'because', 'i']"
      ]
    },
    {
      "cell_type": "markdown",
      "metadata": {
        "id": "CPUQQ8D0Gjqc"
      },
      "source": [
        "Using Python's list comprehension construct and the `word_to_one_hot_vector` function that you created in the previous section, you can create a list of one-hot vectors representing each of the context words."
      ]
    },
    {
      "cell_type": "code",
      "execution_count": 28,
      "metadata": {
        "colab": {
          "base_uri": "https://localhost:8080/"
        },
        "id": "stKntuTHGjqc",
        "outputId": "0f4aaf22-2b02-4f84-9acd-ad3c17226462"
      },
      "outputs": [
        {
          "output_type": "execute_result",
          "data": {
            "text/plain": [
              "[array([0., 0., 0., 1., 0.]),\n",
              " array([1., 0., 0., 0., 0.]),\n",
              " array([0., 1., 0., 0., 0.]),\n",
              " array([0., 0., 0., 1., 0.])]"
            ]
          },
          "metadata": {},
          "execution_count": 28
        }
      ],
      "source": [
        "context_words_vectors = [word_to_one_hot_vector(w, word2Ind, V) for w in context_words]\n",
        "context_words_vectors"
      ]
    },
    {
      "cell_type": "markdown",
      "metadata": {
        "id": "jx21KLxjGjqd"
      },
      "source": [
        "And you can now simply get the average of these vectors using numpy's `mean` function, to get the vector representation of the context words."
      ]
    },
    {
      "cell_type": "code",
      "execution_count": 29,
      "metadata": {
        "colab": {
          "base_uri": "https://localhost:8080/"
        },
        "id": "2u2z5qYcGjqe",
        "outputId": "5a83e910-0dae-4b50-afaa-f3b425805373"
      },
      "outputs": [
        {
          "output_type": "execute_result",
          "data": {
            "text/plain": [
              "array([0.25, 0.25, 0.  , 0.5 , 0.  ])"
            ]
          },
          "metadata": {},
          "execution_count": 29
        }
      ],
      "source": [
        "np.mean(context_words_vectors, axis=0)"
      ]
    },
    {
      "cell_type": "markdown",
      "metadata": {
        "id": "fOo0p_zCGjqe"
      },
      "source": [
        "Note the `axis=0` parameter that tells `mean` to calculate the average of the rows (if you had wanted the average of the columns, you would have used `axis=1`).\n",
        "\n",
        "**Now create the `context_words_to_vector` function that takes in a list of context words, a word-to-index dictionary, and a vocabulary size, and outputs the vector representation of the context words.**"
      ]
    },
    {
      "cell_type": "code",
      "execution_count": 30,
      "metadata": {
        "id": "yUnnrVIdGjqf"
      },
      "outputs": [],
      "source": [
        "def context_words_to_vector(context_words, word2Ind, V):\n",
        "    context_words_vectors = [word_to_one_hot_vector(w, word2Ind, V) for w in context_words]\n",
        "    context_words_vectors = np.mean(context_words_vectors, axis=0)\n",
        "\n",
        "    return context_words_vectors"
      ]
    },
    {
      "cell_type": "markdown",
      "metadata": {
        "id": "F6fSUYPYGjqf"
      },
      "source": [
        "And check that you obtain the same output as the manual approach above."
      ]
    },
    {
      "cell_type": "code",
      "execution_count": 31,
      "metadata": {
        "colab": {
          "base_uri": "https://localhost:8080/"
        },
        "id": "tG5IuUBJGjqf",
        "outputId": "f128953d-bdb1-4a47-eec2-ec8a5be9541d"
      },
      "outputs": [
        {
          "output_type": "execute_result",
          "data": {
            "text/plain": [
              "array([0.25, 0.25, 0.  , 0.5 , 0.  ])"
            ]
          },
          "metadata": {},
          "execution_count": 31
        }
      ],
      "source": [
        "context_words_to_vector(['i', 'am', 'because', 'i'], word2Ind, V)"
      ]
    },
    {
      "cell_type": "markdown",
      "metadata": {
        "id": "ufx6BJlYGjqg"
      },
      "source": [
        "**What is the vector representation of the context words \"am happy i am\"?**"
      ]
    },
    {
      "cell_type": "code",
      "execution_count": 32,
      "metadata": {
        "colab": {
          "base_uri": "https://localhost:8080/"
        },
        "id": "19_aZZcUGjqg",
        "outputId": "14261cfc-4b70-4ceb-b3fc-eec619f8aedb"
      },
      "outputs": [
        {
          "output_type": "execute_result",
          "data": {
            "text/plain": [
              "array([0.5 , 0.  , 0.25, 0.25, 0.  ])"
            ]
          },
          "metadata": {},
          "execution_count": 32
        }
      ],
      "source": [
        "context_words_to_vector(['am', 'happy', 'i', 'am'], word2Ind, V)"
      ]
    },
    {
      "cell_type": "markdown",
      "metadata": {
        "id": "m6uKWs3ZGjqh"
      },
      "source": [
        "Expected output:\n",
        "\n",
        "    array([0.5 , 0.  , 0.25, 0.25, 0.  ])"
      ]
    },
    {
      "cell_type": "markdown",
      "metadata": {
        "id": "TqPnsqwLGjqh"
      },
      "source": [
        "\n",
        "## Building the training set"
      ]
    },
    {
      "cell_type": "markdown",
      "metadata": {
        "id": "22d0bUeUGjqi"
      },
      "source": [
        "You can now combine the functions that you created in the previous sections, to build a training set for the CBOW model, starting from the following tokenized corpus."
      ]
    },
    {
      "cell_type": "code",
      "execution_count": 33,
      "metadata": {
        "colab": {
          "base_uri": "https://localhost:8080/"
        },
        "id": "ycuWFOoyGjqj",
        "outputId": "c2fa9f95-dce5-4296-ec69-682d7f426459"
      },
      "outputs": [
        {
          "output_type": "execute_result",
          "data": {
            "text/plain": [
              "['i', 'am', 'happy', 'because', 'i', 'am', 'learning']"
            ]
          },
          "metadata": {},
          "execution_count": 33
        }
      ],
      "source": [
        "words"
      ]
    },
    {
      "cell_type": "markdown",
      "metadata": {
        "id": "HzwRfM06Gjqj"
      },
      "source": [
        "To do this you need to use the sliding window function (`get_windows`) to extract the context words and center words, and you then convert these sets of words into a basic vector representation using `word_to_one_hot_vector` and `context_words_to_vector`."
      ]
    },
    {
      "cell_type": "code",
      "execution_count": 34,
      "metadata": {
        "colab": {
          "base_uri": "https://localhost:8080/"
        },
        "id": "y7SvGI0BGjqk",
        "outputId": "573dcac4-4e84-4524-8fdc-4604ff57c657"
      },
      "outputs": [
        {
          "output_type": "stream",
          "name": "stdout",
          "text": [
            "Context words:  ['i', 'am', 'because', 'i'] -> [0.25 0.25 0.   0.5  0.  ]\n",
            "Center word:  happy -> [0. 0. 1. 0. 0.]\n",
            "\n",
            "Context words:  ['am', 'happy', 'i', 'am'] -> [0.5  0.   0.25 0.25 0.  ]\n",
            "Center word:  because -> [0. 1. 0. 0. 0.]\n",
            "\n",
            "Context words:  ['happy', 'because', 'am', 'learning'] -> [0.25 0.25 0.25 0.   0.25]\n",
            "Center word:  i -> [0. 0. 0. 1. 0.]\n",
            "\n"
          ]
        }
      ],
      "source": [
        "for context_words, center_word in get_windows(words, 2):  # reminder: 2 is the context half-size\n",
        "    print(f'Context words:  {context_words} -> {context_words_to_vector(context_words, word2Ind, V)}')\n",
        "    print(f'Center word:  {center_word} -> {word_to_one_hot_vector(center_word, word2Ind, V)}')\n",
        "    print()"
      ]
    },
    {
      "cell_type": "markdown",
      "metadata": {
        "id": "u2fqKZeaGjql"
      },
      "source": [
        "In this practice notebook you'll be performing a single iteration of training using a single example, but in this week's assignment you'll train the CBOW model using several iterations and batches of example.\n",
        "Here is how you would use a Python generator function (remember the `yield` keyword from the lecture?) to make it easier to iterate over a set of examples."
      ]
    },
    {
      "cell_type": "code",
      "execution_count": 35,
      "metadata": {
        "id": "c54GDeWtGjqm"
      },
      "outputs": [],
      "source": [
        "def get_training_example(words, C, word2Ind, V):\n",
        "    for context_words, center_word in get_windows(words, C):\n",
        "        yield context_words_to_vector(context_words, word2Ind, V), word_to_one_hot_vector(center_word, word2Ind, V)"
      ]
    },
    {
      "cell_type": "markdown",
      "metadata": {
        "id": "3qvW_0zKGjqm"
      },
      "source": [
        "The output of this function can be iterated on to get successive context word vectors and center word vectors, as demonstrated in the next cell."
      ]
    },
    {
      "cell_type": "code",
      "execution_count": 36,
      "metadata": {
        "colab": {
          "base_uri": "https://localhost:8080/"
        },
        "id": "SqflBq_BGjqn",
        "outputId": "c3459b32-5698-449a-d0ef-1deb42aef7c4"
      },
      "outputs": [
        {
          "output_type": "stream",
          "name": "stdout",
          "text": [
            "Context words vector:  [0.25 0.25 0.   0.5  0.  ]\n",
            "Center word vector:  [0. 0. 1. 0. 0.]\n",
            "\n",
            "Context words vector:  [0.5  0.   0.25 0.25 0.  ]\n",
            "Center word vector:  [0. 1. 0. 0. 0.]\n",
            "\n",
            "Context words vector:  [0.25 0.25 0.25 0.   0.25]\n",
            "Center word vector:  [0. 0. 0. 1. 0.]\n",
            "\n"
          ]
        }
      ],
      "source": [
        "for context_words_vector, center_word_vector in get_training_example(words, 2, word2Ind, V):\n",
        "    print(f'Context words vector:  {context_words_vector}')\n",
        "    print(f'Center word vector:  {center_word_vector}')\n",
        "    print()"
      ]
    },
    {
      "cell_type": "markdown",
      "metadata": {
        "id": "YWb7gXHLGjqn"
      },
      "source": [
        "Your training set is ready, you can now move on to the CBOW model itself."
      ]
    },
    {
      "cell_type": "markdown",
      "metadata": {
        "id": "x7r70-JqGjqo"
      },
      "source": [
        "# The continuous bag-of-words model"
      ]
    },
    {
      "cell_type": "markdown",
      "metadata": {
        "id": "wgkDFjqXGjqo"
      },
      "source": [
        "The CBOW model is based on a neural network, the architecture of which looks like the figure below, as you'll recall from the lecture.\n",
        "\n",
        "<div style=\"width:image width px; font-size:100%; text-align:center;\"><img src='https://drive.google.com/uc?export=view&id=1tbqgkQMgTBXyZMD29_WERrquH5oqnC0e' alt=\"alternate text\" width=\"width\" height=\"height\" style=\"width:917;height:337;\" /> Figure 1 </div>\n",
        "\n",
        "This part of the notebook will walk you through:\n",
        "\n",
        "- The two activation functions used in the neural network.\n",
        "\n",
        "- Forward propagation.\n",
        "\n",
        "- Cross-entropy loss.\n",
        "\n",
        "- Backpropagation.\n",
        "\n",
        "- Gradient descent.\n",
        "\n",
        "- Extracting the word embedding vectors from the weight matrices once the neural network has been trained."
      ]
    },
    {
      "cell_type": "markdown",
      "metadata": {
        "id": "tNXWo2zuGjqo"
      },
      "source": [
        "## Activation functions"
      ]
    },
    {
      "cell_type": "markdown",
      "metadata": {
        "id": "s57VNZX7Gjqp"
      },
      "source": [
        "Let's start by implementing the activation functions, ReLU and softmax."
      ]
    },
    {
      "cell_type": "markdown",
      "metadata": {
        "id": "eypf0VbsGjqp"
      },
      "source": [
        "### ReLU"
      ]
    },
    {
      "cell_type": "markdown",
      "metadata": {
        "id": "z2fLvuKZGjqp"
      },
      "source": [
        "ReLU is used to calculate the values of the hidden layer, in the following formulas:\n",
        "\n",
        "\\begin{align}\n",
        " \\mathbf{z_1} &= \\mathbf{W_1}\\mathbf{x} + \\mathbf{b_1}  \\tag{1} \\\\\n",
        " \\mathbf{h} &= \\mathrm{ReLU}(\\mathbf{z_1})  \\tag{2} \\\\\n",
        "\\end{align}\n"
      ]
    },
    {
      "cell_type": "markdown",
      "metadata": {
        "id": "tEJHn0tHGjqq"
      },
      "source": [
        "Let's fix a value for $\\mathbf{z_1}$ as a working example."
      ]
    },
    {
      "cell_type": "code",
      "execution_count": 37,
      "metadata": {
        "colab": {
          "base_uri": "https://localhost:8080/"
        },
        "id": "JS59icM0Gjqq",
        "outputId": "c0e2cbbf-09c7-4a47-9b92-c6cc66a89d9c"
      },
      "outputs": [
        {
          "output_type": "execute_result",
          "data": {
            "text/plain": [
              "array([[ 2.71320643],\n",
              "       [-4.79248051],\n",
              "       [ 1.33648235],\n",
              "       [ 2.48803883],\n",
              "       [-0.01492988]])"
            ]
          },
          "metadata": {},
          "execution_count": 37
        }
      ],
      "source": [
        "np.random.seed(10)\n",
        "z_1 = 10*np.random.rand(5, 1)-5\n",
        "z_1"
      ]
    },
    {
      "cell_type": "markdown",
      "metadata": {
        "id": "AKONy57WGjqr"
      },
      "source": [
        "To get the ReLU of this vector, you want all the negative values to become zeros.\n",
        "\n",
        "First create a copy of this vector."
      ]
    },
    {
      "cell_type": "code",
      "execution_count": 38,
      "metadata": {
        "id": "H_I1OgYYGjqr"
      },
      "outputs": [],
      "source": [
        "h = z_1.copy()"
      ]
    },
    {
      "cell_type": "markdown",
      "metadata": {
        "id": "yCVprQWXGjqr"
      },
      "source": [
        "Now determine which of its values are negative."
      ]
    },
    {
      "cell_type": "code",
      "execution_count": 39,
      "metadata": {
        "colab": {
          "base_uri": "https://localhost:8080/"
        },
        "id": "mR-Zp0HrGjqs",
        "outputId": "26ce1b80-3199-4f51-cbd0-145983bb6779"
      },
      "outputs": [
        {
          "output_type": "execute_result",
          "data": {
            "text/plain": [
              "array([[False],\n",
              "       [ True],\n",
              "       [False],\n",
              "       [False],\n",
              "       [ True]])"
            ]
          },
          "metadata": {},
          "execution_count": 39
        }
      ],
      "source": [
        "h < 0"
      ]
    },
    {
      "cell_type": "markdown",
      "metadata": {
        "id": "UdVw-pe0Gjqs"
      },
      "source": [
        "You can now simply set all of the values which are negative to 0."
      ]
    },
    {
      "cell_type": "code",
      "execution_count": 40,
      "metadata": {
        "id": "Nl7G_-szGjqs"
      },
      "outputs": [],
      "source": [
        "h[h < 0] = 0"
      ]
    },
    {
      "cell_type": "markdown",
      "metadata": {
        "id": "13F0PXnZGjqt"
      },
      "source": [
        "And that's it: you have the ReLU of $\\mathbf{z_1}$!"
      ]
    },
    {
      "cell_type": "code",
      "execution_count": 41,
      "metadata": {
        "colab": {
          "base_uri": "https://localhost:8080/"
        },
        "id": "TjXodHfQGjqt",
        "outputId": "70795820-e00d-4d3c-8f3b-d0a286f725ce"
      },
      "outputs": [
        {
          "output_type": "execute_result",
          "data": {
            "text/plain": [
              "array([[2.71320643],\n",
              "       [0.        ],\n",
              "       [1.33648235],\n",
              "       [2.48803883],\n",
              "       [0.        ]])"
            ]
          },
          "metadata": {},
          "execution_count": 41
        }
      ],
      "source": [
        "h"
      ]
    },
    {
      "cell_type": "markdown",
      "metadata": {
        "id": "5GiuWuQTGjqu"
      },
      "source": [
        "**Now implement ReLU as a function.**"
      ]
    },
    {
      "cell_type": "code",
      "execution_count": 42,
      "metadata": {
        "id": "aQBzotooGjqu"
      },
      "outputs": [],
      "source": [
        "def relu(z):\n",
        "    result = z.copy()\n",
        "    result[result < 0] = 0\n",
        "\n",
        "    return result"
      ]
    },
    {
      "cell_type": "markdown",
      "metadata": {
        "id": "-ni4kmN3Gjqu"
      },
      "source": [
        "**And check that it's working.**"
      ]
    },
    {
      "cell_type": "code",
      "execution_count": 43,
      "metadata": {
        "colab": {
          "base_uri": "https://localhost:8080/"
        },
        "id": "ARrczCRAGjqv",
        "outputId": "a53a0d15-d93c-4e03-cea1-f18f76abc12d"
      },
      "outputs": [
        {
          "output_type": "execute_result",
          "data": {
            "text/plain": [
              "array([[0.        ],\n",
              "       [4.50714306],\n",
              "       [2.31993942],\n",
              "       [0.98658484],\n",
              "       [0.        ]])"
            ]
          },
          "metadata": {},
          "execution_count": 43
        }
      ],
      "source": [
        "z = np.array([[-1.25459881], [ 4.50714306], [ 2.31993942], [ 0.98658484], [-3.4398136 ]])\n",
        "relu(z)"
      ]
    },
    {
      "cell_type": "markdown",
      "metadata": {
        "id": "_FOKfeRTGjqv"
      },
      "source": [
        "Expected output:\n",
        "\n",
        "    array([[0.        ],\n",
        "           [4.50714306],\n",
        "           [2.31993942],\n",
        "           [0.98658484],\n",
        "           [0.        ]])"
      ]
    },
    {
      "cell_type": "markdown",
      "metadata": {
        "id": "f5YDOdvgGjqv"
      },
      "source": [
        "### Softmax"
      ]
    },
    {
      "cell_type": "markdown",
      "metadata": {
        "id": "qK9ZMaCpGjqw"
      },
      "source": [
        "The second activation function that you need is softmax. This function is used to calculate the values of the output layer of the neural network, using the following formulas:\n",
        "\n",
        "\\begin{align}\n",
        " \\mathbf{z_2} &= \\mathbf{W_2}\\mathbf{h} + \\mathbf{b_2}   \\tag{3} \\\\\n",
        " \\mathbf{\\hat y} &= \\mathrm{softmax}(\\mathbf{z_2})   \\tag{4} \\\\\n",
        "\\end{align}\n",
        "\n",
        "To calculate softmax of a vector $\\mathbf{z}$, the $i$-th component of the resulting vector is given by:\n",
        "\n",
        "$$ \\textrm{softmax}(\\textbf{z})_i = \\frac{e^{z_i} }{\\sum\\limits_{j=1}^{V} e^{z_j} }  \\tag{5} $$\n",
        "\n",
        "Let's work through an example."
      ]
    },
    {
      "cell_type": "code",
      "execution_count": 44,
      "metadata": {
        "colab": {
          "base_uri": "https://localhost:8080/"
        },
        "id": "jzgTwsYZGjqw",
        "outputId": "7fde7b7f-07e7-4bb3-fe6c-f0ba80fec62b"
      },
      "outputs": [
        {
          "output_type": "execute_result",
          "data": {
            "text/plain": [
              "array([ 9. ,  8. , 11. , 10. ,  8.5])"
            ]
          },
          "metadata": {},
          "execution_count": 44
        }
      ],
      "source": [
        "z = np.array([9, 8, 11, 10, 8.5])\n",
        "z"
      ]
    },
    {
      "cell_type": "markdown",
      "metadata": {
        "id": "n2QGtHURGjqx"
      },
      "source": [
        "You'll need to calculate the exponentials of each element, both for the numerator and for the denominator."
      ]
    },
    {
      "cell_type": "code",
      "execution_count": 45,
      "metadata": {
        "colab": {
          "base_uri": "https://localhost:8080/"
        },
        "id": "Sb6WPowKGjqx",
        "outputId": "bf096cec-629c-41d2-c782-6db992dae71a"
      },
      "outputs": [
        {
          "output_type": "execute_result",
          "data": {
            "text/plain": [
              "array([ 8103.08392758,  2980.95798704, 59874.1417152 , 22026.46579481,\n",
              "        4914.7688403 ])"
            ]
          },
          "metadata": {},
          "execution_count": 45
        }
      ],
      "source": [
        "e_z = np.exp(z)\n",
        "e_z"
      ]
    },
    {
      "cell_type": "markdown",
      "metadata": {
        "id": "DMIv2Fs2Gjqy"
      },
      "source": [
        "The denominator is equal to the sum of these exponentials."
      ]
    },
    {
      "cell_type": "code",
      "execution_count": 46,
      "metadata": {
        "colab": {
          "base_uri": "https://localhost:8080/"
        },
        "id": "n_6hEfmqGjqy",
        "outputId": "2be6ee20-9324-4efb-e757-2058b8902cab"
      },
      "outputs": [
        {
          "output_type": "execute_result",
          "data": {
            "text/plain": [
              "97899.41826492078"
            ]
          },
          "metadata": {},
          "execution_count": 46
        }
      ],
      "source": [
        "sum_e_z = np.sum(e_z)\n",
        "sum_e_z"
      ]
    },
    {
      "cell_type": "markdown",
      "metadata": {
        "id": "i8QLbfVNGjqz"
      },
      "source": [
        "And the value of the first element of $\\textrm{softmax}(\\textbf{z})$ is given by:"
      ]
    },
    {
      "cell_type": "code",
      "execution_count": 47,
      "metadata": {
        "colab": {
          "base_uri": "https://localhost:8080/"
        },
        "id": "AGH7zctGGjqz",
        "outputId": "7a968266-146a-4b89-f7c1-33f48de1c592"
      },
      "outputs": [
        {
          "output_type": "execute_result",
          "data": {
            "text/plain": [
              "0.08276947985173956"
            ]
          },
          "metadata": {},
          "execution_count": 47
        }
      ],
      "source": [
        "e_z[0]/sum_e_z"
      ]
    },
    {
      "cell_type": "markdown",
      "metadata": {
        "id": "KT3LEJo3Gjq0"
      },
      "source": [
        "This is for one element. You can use numpy's vectorized operations to calculate the values of all the elements of the $\\textrm{softmax}(\\textbf{z})$ vector in one go.\n",
        "\n",
        "**Implement the softmax function.**"
      ]
    },
    {
      "cell_type": "code",
      "execution_count": 48,
      "metadata": {
        "id": "Qi3ifvL0Gjq0"
      },
      "outputs": [],
      "source": [
        "def softmax(z):\n",
        "    e_z = np.exp(z)\n",
        "    sum_e_z = np.sum(e_z)\n",
        "\n",
        "    return e_z / sum_e_z"
      ]
    },
    {
      "cell_type": "markdown",
      "metadata": {
        "id": "e3GrBdzyGjq1"
      },
      "source": [
        "**Now check that it works.**"
      ]
    },
    {
      "cell_type": "code",
      "execution_count": 49,
      "metadata": {
        "colab": {
          "base_uri": "https://localhost:8080/"
        },
        "id": "Lt4fR6sRGjq2",
        "outputId": "93f26e6a-bfde-4837-82c0-c02bdc42fea4"
      },
      "outputs": [
        {
          "output_type": "execute_result",
          "data": {
            "text/plain": [
              "array([0.08276948, 0.03044919, 0.61158833, 0.22499077, 0.05020223])"
            ]
          },
          "metadata": {},
          "execution_count": 49
        }
      ],
      "source": [
        "softmax([9, 8, 11, 10, 8.5])"
      ]
    },
    {
      "cell_type": "markdown",
      "metadata": {
        "id": "5xO0OUlXGjq3"
      },
      "source": [
        "Expected output:\n",
        "\n",
        "    array([0.08276948, 0.03044919, 0.61158833, 0.22499077, 0.05020223])"
      ]
    },
    {
      "cell_type": "markdown",
      "metadata": {
        "id": "NRvmDvk_Gjq3"
      },
      "source": [
        "## Dimensions: 1-D arrays vs 2-D column vectors\n",
        "\n",
        "Before moving on to implement forward propagation, backpropagation, and gradient descent, let's have a look at the dimensions of the vectors you've been handling until now.\n",
        "\n",
        "Create a vector of length $V$ filled with zeros."
      ]
    },
    {
      "cell_type": "code",
      "execution_count": 50,
      "metadata": {
        "scrolled": true,
        "colab": {
          "base_uri": "https://localhost:8080/"
        },
        "id": "Gjm-fEE7Gjq3",
        "outputId": "8ca92515-0734-4692-88ef-ba4b3a543583"
      },
      "outputs": [
        {
          "output_type": "execute_result",
          "data": {
            "text/plain": [
              "array([0., 0., 0., 0., 0.])"
            ]
          },
          "metadata": {},
          "execution_count": 50
        }
      ],
      "source": [
        "x_array = np.zeros(V)\n",
        "x_array"
      ]
    },
    {
      "cell_type": "markdown",
      "metadata": {
        "id": "mPUofSTPGjq4"
      },
      "source": [
        "This is a 1-dimensional array, as revealed by the `.shape` property of the array."
      ]
    },
    {
      "cell_type": "code",
      "execution_count": 51,
      "metadata": {
        "colab": {
          "base_uri": "https://localhost:8080/"
        },
        "id": "x6pLD_ilGjq4",
        "outputId": "34e25b91-71a6-42e6-b4a8-4e70811196d0"
      },
      "outputs": [
        {
          "output_type": "execute_result",
          "data": {
            "text/plain": [
              "(5,)"
            ]
          },
          "metadata": {},
          "execution_count": 51
        }
      ],
      "source": [
        "x_array.shape"
      ]
    },
    {
      "cell_type": "markdown",
      "metadata": {
        "id": "6r94AWkrGjq4"
      },
      "source": [
        "To perform matrix multiplication in the next steps, you actually need your column vectors to be represented as a matrix with one column. In numpy, this matrix is represented as a 2-dimensional array.\n",
        "\n",
        "The easiest way to convert a 1D vector to a 2D column matrix is to set its `.shape` property to the number of rows and one column, as shown in the next cell."
      ]
    },
    {
      "cell_type": "code",
      "execution_count": 52,
      "metadata": {
        "colab": {
          "base_uri": "https://localhost:8080/"
        },
        "id": "HgfZelgNGjq4",
        "outputId": "85038727-673f-41b1-e7a6-76f2306f7356"
      },
      "outputs": [
        {
          "output_type": "execute_result",
          "data": {
            "text/plain": [
              "array([[0.],\n",
              "       [0.],\n",
              "       [0.],\n",
              "       [0.],\n",
              "       [0.]])"
            ]
          },
          "metadata": {},
          "execution_count": 52
        }
      ],
      "source": [
        "x_column_vector = x_array.copy()\n",
        "x_column_vector.shape = (V, 1)  # alternatively ... = (x_array.shape[0], 1)\n",
        "x_column_vector"
      ]
    },
    {
      "cell_type": "markdown",
      "metadata": {
        "id": "f-bfA0ilGjq5"
      },
      "source": [
        "The shape of the resulting \"vector\" is:"
      ]
    },
    {
      "cell_type": "code",
      "execution_count": 53,
      "metadata": {
        "colab": {
          "base_uri": "https://localhost:8080/"
        },
        "id": "016Hc--lGjq5",
        "outputId": "9d94cf0d-ae5d-45c0-8176-05fba1550154"
      },
      "outputs": [
        {
          "output_type": "execute_result",
          "data": {
            "text/plain": [
              "(5, 1)"
            ]
          },
          "metadata": {},
          "execution_count": 53
        }
      ],
      "source": [
        "x_column_vector.shape"
      ]
    },
    {
      "cell_type": "markdown",
      "metadata": {
        "id": "PvrQWGBOGjq5"
      },
      "source": [
        "So you now have a 5x1 matrix that you can use to perform standard matrix multiplication."
      ]
    },
    {
      "cell_type": "markdown",
      "metadata": {
        "id": "P_P80WyXGjq5"
      },
      "source": [
        "## Forward propagation"
      ]
    },
    {
      "cell_type": "markdown",
      "metadata": {
        "id": "h41bB-VcGjq6"
      },
      "source": [
        "Let's dive into the neural network itself, which is shown below with all the dimensions and formulas you'll need.\n",
        "\n",
        "<div style=\"width:image width px; font-size:100%; text-align:center;\"><img src='https://drive.google.com/uc?export=view&id=16o-YNtbb3epIVKTQB9EUso4m9lzHH2KM' alt=\"alternate text\" width=\"width\" height=\"height\" style=\"width:839;height:349;\" /> Figure 2 </div>"
      ]
    },
    {
      "cell_type": "markdown",
      "metadata": {
        "id": "rO7MzcT9Gjq6"
      },
      "source": [
        "Set $N$ equal to 3. Remember that $N$ is a hyperparameter of the CBOW model that represents the size of the word embedding vectors, as well as the size of the hidden layer."
      ]
    },
    {
      "cell_type": "code",
      "execution_count": 54,
      "metadata": {
        "id": "sd_ktxmdGjq6"
      },
      "outputs": [],
      "source": [
        "N = 3"
      ]
    },
    {
      "cell_type": "markdown",
      "metadata": {
        "id": "YfZK9atxGjq6"
      },
      "source": [
        "### Initialization of the weights and biases"
      ]
    },
    {
      "cell_type": "markdown",
      "metadata": {
        "id": "8wgU_wIvGjq7"
      },
      "source": [
        "Before you start training the neural network, you need to initialize the weight matrices and bias vectors with random values.\n",
        "\n",
        "In the assignment you will implement a function to do this yourself using `numpy.random.rand`. In this notebook, we've pre-populated these matrices and vectors for you."
      ]
    },
    {
      "cell_type": "code",
      "execution_count": 55,
      "metadata": {
        "id": "VGH4CnBvGjq7"
      },
      "outputs": [],
      "source": [
        "W1 = np.array([[ 0.41687358,  0.08854191, -0.23495225,  0.28320538,  0.41800106],\n",
        "               [ 0.32735501,  0.22795148, -0.23951958,  0.4117634 , -0.23924344],\n",
        "               [ 0.26637602, -0.23846886, -0.37770863, -0.11399446,  0.34008124]])\n",
        "\n",
        "W2 = np.array([[-0.22182064, -0.43008631,  0.13310965],\n",
        "               [ 0.08476603,  0.08123194,  0.1772054 ],\n",
        "               [ 0.1871551 , -0.06107263, -0.1790735 ],\n",
        "               [ 0.07055222, -0.02015138,  0.36107434],\n",
        "               [ 0.33480474, -0.39423389, -0.43959196]])\n",
        "\n",
        "b1 = np.array([[ 0.09688219],\n",
        "               [ 0.29239497],\n",
        "               [-0.27364426]])\n",
        "\n",
        "b2 = np.array([[ 0.0352008 ],\n",
        "               [-0.36393384],\n",
        "               [-0.12775555],\n",
        "               [-0.34802326],\n",
        "               [-0.07017815]])"
      ]
    },
    {
      "cell_type": "markdown",
      "metadata": {
        "id": "oi1_q6AhGjq7"
      },
      "source": [
        "**Check that the dimensions of these matrices match those shown in the figure above.**"
      ]
    },
    {
      "cell_type": "code",
      "execution_count": 56,
      "metadata": {
        "colab": {
          "base_uri": "https://localhost:8080/"
        },
        "id": "i-7jz5VTGjq8",
        "outputId": "25b7cfe3-6b12-4311-fbc3-b91b24b9982f"
      },
      "outputs": [
        {
          "output_type": "stream",
          "name": "stdout",
          "text": [
            "V (vocabulary size): 5\n",
            "N (embedding size / size of the hidden layer): 3\n",
            "size of W1: (3, 5) (NxV)\n",
            "size of b1: (3, 1) (Nx1)\n",
            "size of W2: (5, 3) (VxN)\n",
            "size of b2: (5, 1) (Vx1)\n"
          ]
        }
      ],
      "source": [
        "print(f'V (vocabulary size): {V}')\n",
        "print(f'N (embedding size / size of the hidden layer): {N}')\n",
        "print(f'size of W1: {W1.shape} (NxV)')\n",
        "print(f'size of b1: {b1.shape} (Nx1)')\n",
        "print(f'size of W2: {W2.shape} (VxN)')\n",
        "print(f'size of b2: {b2.shape} (Vx1)')"
      ]
    },
    {
      "cell_type": "markdown",
      "metadata": {
        "id": "pgs2tEFvGjq8"
      },
      "source": [
        "### Training example"
      ]
    },
    {
      "cell_type": "markdown",
      "metadata": {
        "id": "gA_82_VaGjq9"
      },
      "source": [
        "Run the next cells to get the first training example, made of the vector representing the context words \"i am because i\", and the target which is the one-hot vector representing the center word \"happy\".\n",
        "\n",
        "> You don't need to worry about the Python syntax, but there are some explanations below if you want to know what's happening behind the scenes."
      ]
    },
    {
      "cell_type": "code",
      "execution_count": 57,
      "metadata": {
        "id": "AVmPwG0gGjq9"
      },
      "outputs": [],
      "source": [
        "training_examples = get_training_example(words, 2, word2Ind, V)"
      ]
    },
    {
      "cell_type": "markdown",
      "metadata": {
        "id": "X74kn8UVGjq9"
      },
      "source": [
        "> `get_training_examples`, which uses the `yield` keyword, is known as a generator. When run, it builds an iterator, which is a special type of object that... you can iterate on (using a `for` loop for instance), to retrieve the successive values that the function generates.\n",
        ">\n",
        "> In this case `get_training_examples` `yield`s training examples, and iterating on `training_examples` will return the successive training examples."
      ]
    },
    {
      "cell_type": "code",
      "execution_count": 58,
      "metadata": {
        "id": "vlGRtSJ_Gjq-"
      },
      "outputs": [],
      "source": [
        "x_array, y_array = next(training_examples)"
      ]
    },
    {
      "cell_type": "markdown",
      "metadata": {
        "id": "Mm71X3F0Gjq-"
      },
      "source": [
        "> `next` is another special keyword, which gets the next available value from an iterator. Here, you'll get the very first value, which is the first training example. If you run this cell again, you'll get the next value, and so on until the iterator runs out of values to return.\n",
        ">\n",
        "> In this notebook `next` is used because you will only be performing one iteration of training. In this week's assignment with the full training over several iterations you'll use regular `for` loops with the iterator that supplies the training examples."
      ]
    },
    {
      "cell_type": "markdown",
      "metadata": {
        "id": "OPjA3L7_Gjq-"
      },
      "source": [
        "The vector representing the context words, which will be fed into the neural network, is:"
      ]
    },
    {
      "cell_type": "code",
      "execution_count": 59,
      "metadata": {
        "colab": {
          "base_uri": "https://localhost:8080/"
        },
        "id": "znbtJrjxGjq_",
        "outputId": "4509e805-70b3-4878-dfa6-69147b67369f"
      },
      "outputs": [
        {
          "output_type": "execute_result",
          "data": {
            "text/plain": [
              "array([0.25, 0.25, 0.  , 0.5 , 0.  ])"
            ]
          },
          "metadata": {},
          "execution_count": 59
        }
      ],
      "source": [
        "x_array"
      ]
    },
    {
      "cell_type": "markdown",
      "metadata": {
        "id": "flymZPAwGjq_"
      },
      "source": [
        "The one-hot vector representing the center word to be predicted is:"
      ]
    },
    {
      "cell_type": "code",
      "execution_count": 60,
      "metadata": {
        "colab": {
          "base_uri": "https://localhost:8080/"
        },
        "id": "y4hoRQ4EGjq_",
        "outputId": "3d2a85fe-036e-4eee-bb6b-0aef0d5e7084"
      },
      "outputs": [
        {
          "output_type": "execute_result",
          "data": {
            "text/plain": [
              "array([0., 0., 1., 0., 0.])"
            ]
          },
          "metadata": {},
          "execution_count": 60
        }
      ],
      "source": [
        "y_array"
      ]
    },
    {
      "cell_type": "markdown",
      "metadata": {
        "id": "Cp7_fRjrGjrD"
      },
      "source": [
        "Now convert these vectors into matrices (or 2D arrays) to be able to perform matrix multiplication on the right types of objects, as explained above."
      ]
    },
    {
      "cell_type": "code",
      "execution_count": 61,
      "metadata": {
        "colab": {
          "base_uri": "https://localhost:8080/"
        },
        "id": "BuqcxnWiGjrE",
        "outputId": "b4aa69fb-df4b-42e1-be66-ca70a5ccb74c"
      },
      "outputs": [
        {
          "output_type": "stream",
          "name": "stdout",
          "text": [
            "x\n",
            "[[0.25]\n",
            " [0.25]\n",
            " [0.  ]\n",
            " [0.5 ]\n",
            " [0.  ]]\n",
            "\n",
            "y\n",
            "[[0.]\n",
            " [0.]\n",
            " [1.]\n",
            " [0.]\n",
            " [0.]]\n"
          ]
        }
      ],
      "source": [
        "x = x_array.copy()\n",
        "x.shape = (V, 1)\n",
        "print('x')\n",
        "print(x)\n",
        "print()\n",
        "\n",
        "y = y_array.copy()\n",
        "y.shape = (V, 1)\n",
        "print('y')\n",
        "print(y)"
      ]
    },
    {
      "cell_type": "markdown",
      "metadata": {
        "id": "gHP7q0JSGjrF"
      },
      "source": [
        "### Values of the hidden layer\n",
        "\n",
        "Now that you have initialized all the variables that you need for forward propagation, you can calculate the values of the hidden layer using the following formulas:\n",
        "\n",
        "\\begin{align}\n",
        " \\mathbf{z_1} = \\mathbf{W_1}\\mathbf{x} + \\mathbf{b_1}  \\tag{1} \\\\\n",
        " \\mathbf{h} = \\mathrm{ReLU}(\\mathbf{z_1})  \\tag{2} \\\\\n",
        "\\end{align}\n",
        "\n",
        "First, you can calculate the value of $\\mathbf{z_1}$."
      ]
    },
    {
      "cell_type": "code",
      "execution_count": 62,
      "metadata": {
        "id": "qmI805lqGjrF"
      },
      "outputs": [],
      "source": [
        "z1 = np.dot(W1, x) + b1"
      ]
    },
    {
      "cell_type": "markdown",
      "metadata": {
        "id": "5CriUOGxGjrH"
      },
      "source": [
        "> `np.dot` is numpy's function for matrix multiplication.\n",
        "\n",
        "As expected you get an $N$ by 1 matrix, or column vector with $N$ elements, where $N$ is equal to the embedding size, which is 3 in this example."
      ]
    },
    {
      "cell_type": "code",
      "execution_count": 63,
      "metadata": {
        "colab": {
          "base_uri": "https://localhost:8080/"
        },
        "id": "ITOIkUu2GjrH",
        "outputId": "09030c04-ab43-4cc6-fa2a-84560c18dbb3"
      },
      "outputs": [
        {
          "output_type": "execute_result",
          "data": {
            "text/plain": [
              "array([[ 0.36483875],\n",
              "       [ 0.63710329],\n",
              "       [-0.3236647 ]])"
            ]
          },
          "metadata": {},
          "execution_count": 63
        }
      ],
      "source": [
        "z1"
      ]
    },
    {
      "cell_type": "markdown",
      "metadata": {
        "id": "cBqbq9tsGjrI"
      },
      "source": [
        "You can now take the ReLU of $\\mathbf{z_1}$ to get $\\mathbf{h}$, the vector with the values of the hidden layer."
      ]
    },
    {
      "cell_type": "code",
      "execution_count": 64,
      "metadata": {
        "colab": {
          "base_uri": "https://localhost:8080/"
        },
        "id": "tQnVxxZGGjrI",
        "outputId": "6a1db2f0-a842-46e7-bb5e-bf689dca6433"
      },
      "outputs": [
        {
          "output_type": "execute_result",
          "data": {
            "text/plain": [
              "array([[0.36483875],\n",
              "       [0.63710329],\n",
              "       [0.        ]])"
            ]
          },
          "metadata": {},
          "execution_count": 64
        }
      ],
      "source": [
        "h = relu(z1)\n",
        "h"
      ]
    },
    {
      "cell_type": "markdown",
      "metadata": {
        "id": "XpJ1j4Z0GjrI"
      },
      "source": [
        "Applying ReLU means that the negative element of $\\mathbf{z_1}$ has been replaced with a zero."
      ]
    },
    {
      "cell_type": "markdown",
      "metadata": {
        "id": "k69ZrOX0GjrJ"
      },
      "source": [
        "### Values of the output layer\n",
        "\n",
        "Here are the formulas you need to calculate the values of the output layer, represented by the vector $\\mathbf{\\hat y}$:\n",
        "\n",
        "\\begin{align}\n",
        " \\mathbf{z_2} &= \\mathbf{W_2}\\mathbf{h} + \\mathbf{b_2}   \\tag{3} \\\\\n",
        " \\mathbf{\\hat y} &= \\mathrm{softmax}(\\mathbf{z_2})   \\tag{4} \\\\\n",
        "\\end{align}\n",
        "\n",
        "**First, calculate $\\mathbf{z_2}$.**"
      ]
    },
    {
      "cell_type": "code",
      "execution_count": 65,
      "metadata": {
        "colab": {
          "base_uri": "https://localhost:8080/"
        },
        "id": "PS-2szDNGjrJ",
        "outputId": "48b3142c-b2dc-4f29-8a10-b5546976041c"
      },
      "outputs": [
        {
          "output_type": "execute_result",
          "data": {
            "text/plain": [
              "array([[-0.31973737],\n",
              "       [-0.28125477],\n",
              "       [-0.09838369],\n",
              "       [-0.33512159],\n",
              "       [-0.19919612]])"
            ]
          },
          "metadata": {},
          "execution_count": 65
        }
      ],
      "source": [
        "z2 = np.dot(W2, h) + b2\n",
        "\n",
        "z2"
      ]
    },
    {
      "cell_type": "markdown",
      "metadata": {
        "id": "e4MLAkr9GjrJ"
      },
      "source": [
        "Expected output:\n",
        "\n",
        "    array([[-0.31973737],\n",
        "           [-0.28125477],\n",
        "           [-0.09838369],\n",
        "           [-0.33512159],\n",
        "           [-0.19919612]])"
      ]
    },
    {
      "cell_type": "markdown",
      "metadata": {
        "id": "Sv-NVFLwGjrJ"
      },
      "source": [
        "This is a $V$ by 1 matrix, where $V$ is the size of the vocabulary, which is 5 in this example."
      ]
    },
    {
      "cell_type": "markdown",
      "metadata": {
        "id": "qisFAtwDGjrK"
      },
      "source": [
        "**Now calculate the value of $\\mathbf{\\hat y}$.**"
      ]
    },
    {
      "cell_type": "code",
      "execution_count": 66,
      "metadata": {
        "colab": {
          "base_uri": "https://localhost:8080/"
        },
        "id": "sHgvriTDGjrK",
        "outputId": "e1dabdf2-89e3-45f1-b64a-1c455d217f88"
      },
      "outputs": [
        {
          "output_type": "execute_result",
          "data": {
            "text/plain": [
              "array([[0.18519074],\n",
              "       [0.19245626],\n",
              "       [0.23107446],\n",
              "       [0.18236353],\n",
              "       [0.20891502]])"
            ]
          },
          "metadata": {},
          "execution_count": 66
        }
      ],
      "source": [
        "y_hat = softmax(z2)\n",
        "\n",
        "y_hat"
      ]
    },
    {
      "cell_type": "markdown",
      "metadata": {
        "id": "-aIHbdVGGjrL"
      },
      "source": [
        "Expected output:\n",
        "\n",
        "    array([[0.18519074],\n",
        "           [0.19245626],\n",
        "           [0.23107446],\n",
        "           [0.18236353],\n",
        "           [0.20891502]])"
      ]
    },
    {
      "cell_type": "markdown",
      "metadata": {
        "id": "lFjzXGbAGjrL"
      },
      "source": [
        "As you've performed the calculations with random matrices and vectors (apart from the input vector), the output of the neural network is essentially random at this point. The learning process will adjust the weights and biases to match the actual targets better.\n",
        "\n",
        "**That being said, what word did the neural network predict?**"
      ]
    },
    {
      "cell_type": "markdown",
      "metadata": {
        "id": "IILYlnrmGjrM"
      },
      "source": [
        "<details>    \n",
        "<summary>\n",
        "    <font size=\"3\" color=\"darkgreen\"><b>Solution</b></font>\n",
        "</summary>\n",
        "<p>The neural network predicted the word \"happy\": the largest element of $\\mathbf{\\hat y}$ is the third one, and the third word of the vocabulary is \"happy\".</p>\n",
        "<p>Here's how you could implement this in Python:</p>\n",
        "<p><code>print(Ind2word[np.argmax(y_hat)])</code></p>"
      ]
    },
    {
      "cell_type": "markdown",
      "metadata": {
        "id": "N6GZ67KEGjrM"
      },
      "source": [
        "Well done, you've completed the forward propagation phase!\n",
        "\n",
        "## Cross-entropy loss\n",
        "\n",
        "Now that you have the network's prediction, you can calculate the cross-entropy loss to determine how accurate the prediction was compared to the actual target.\n",
        "\n",
        "> Remember that you are working on a single training example, not on a batch of examples, which is why you are using *loss* and not *cost*, which is the generalized form of loss.\n",
        "\n",
        "First let's recall what the prediction was."
      ]
    },
    {
      "cell_type": "code",
      "execution_count": 67,
      "metadata": {
        "colab": {
          "base_uri": "https://localhost:8080/"
        },
        "id": "_hXzsKbsGjrM",
        "outputId": "c9b59fb8-e0fc-440c-9a58-f9fabff676f2"
      },
      "outputs": [
        {
          "output_type": "execute_result",
          "data": {
            "text/plain": [
              "array([[0.18519074],\n",
              "       [0.19245626],\n",
              "       [0.23107446],\n",
              "       [0.18236353],\n",
              "       [0.20891502]])"
            ]
          },
          "metadata": {},
          "execution_count": 67
        }
      ],
      "source": [
        "y_hat"
      ]
    },
    {
      "cell_type": "markdown",
      "metadata": {
        "id": "xyCgleofGjrM"
      },
      "source": [
        "And the actual target value is:"
      ]
    },
    {
      "cell_type": "code",
      "execution_count": 68,
      "metadata": {
        "colab": {
          "base_uri": "https://localhost:8080/"
        },
        "id": "-X4-UgKUGjrN",
        "outputId": "0379d2db-ed08-43ca-b07a-2c5e79eb137e"
      },
      "outputs": [
        {
          "output_type": "execute_result",
          "data": {
            "text/plain": [
              "array([[0.],\n",
              "       [0.],\n",
              "       [1.],\n",
              "       [0.],\n",
              "       [0.]])"
            ]
          },
          "metadata": {},
          "execution_count": 68
        }
      ],
      "source": [
        "y"
      ]
    },
    {
      "cell_type": "markdown",
      "metadata": {
        "id": "z3GWCJHPGjrN"
      },
      "source": [
        "The formula for cross-entropy loss is:\n",
        "\n",
        "$$ J=-\\sum\\limits_{k=1}^{V}y_k\\log{\\hat{y}_k} \\tag{6}$$\n",
        "\n",
        "**Implement the cross-entropy loss function.**\n",
        "\n",
        "Here are a some hints if you're stuck."
      ]
    },
    {
      "cell_type": "markdown",
      "metadata": {
        "id": "hQvxpyZEGjrN"
      },
      "source": [
        "<details>    \n",
        "<summary>\n",
        "    <font size=\"3\" color=\"darkgreen\"><b>Hint 1</b></font>\n",
        "</summary>\n",
        "    <p>To multiply two numpy matrices (such as <code>y</code> and <code>y_hat</code>) element-wise, you can simply use the <code>*</code> operator.</p>"
      ]
    },
    {
      "cell_type": "markdown",
      "metadata": {
        "id": "L23j0ayBGjrN"
      },
      "source": [
        "<details>    \n",
        "<summary>\n",
        "    <font size=\"3\" color=\"darkgreen\"><b>Hint 2</b></font>\n",
        "</summary>\n",
        "<p>Once you have a vector equal to the element-wise multiplication of <code>y</code> and <code>y_hat</code>, you can use <code>np.sum</code> to calculate the sum of the elements of this vector.</p>"
      ]
    },
    {
      "cell_type": "code",
      "execution_count": 69,
      "metadata": {
        "id": "3l7KB0XXGjrO"
      },
      "outputs": [],
      "source": [
        "def cross_entropy_loss(y_predicted, y_actual):\n",
        "    loss = np.sum(-np.log(y_predicted)*y_actual)\n",
        "\n",
        "    return loss"
      ]
    },
    {
      "cell_type": "markdown",
      "metadata": {
        "id": "RTV7MphvGjrO"
      },
      "source": [
        "**Now use this function to calculate the loss with the actual values of $\\mathbf{y}$ and $\\mathbf{\\hat y}$.**"
      ]
    },
    {
      "cell_type": "code",
      "execution_count": 70,
      "metadata": {
        "colab": {
          "base_uri": "https://localhost:8080/"
        },
        "id": "cx5h-zCSGjrO",
        "outputId": "9735c613-35f2-4802-f5f3-0a8b2d038f90"
      },
      "outputs": [
        {
          "output_type": "execute_result",
          "data": {
            "text/plain": [
              "1.4650152923611106"
            ]
          },
          "metadata": {},
          "execution_count": 70
        }
      ],
      "source": [
        "cross_entropy_loss(y_hat, y)"
      ]
    },
    {
      "cell_type": "markdown",
      "metadata": {
        "id": "Q2uDw_CsGjrO"
      },
      "source": [
        "Expected output:\n",
        "\n",
        "    1.4650152923611106"
      ]
    },
    {
      "cell_type": "markdown",
      "metadata": {
        "id": "4MoZOIgFGjrP"
      },
      "source": [
        "This value is neither good nor bad, which is expected as the neural network hasn't learned anything yet.\n",
        "\n",
        "The actual learning will start during the next phase: backpropagation.\n",
        "\n",
        "## Backpropagation\n",
        "\n",
        "The formulas that you will implement for backpropagation are the following.\n",
        "\n",
        "\\begin{align}\n",
        " \\frac{\\partial J}{\\partial \\mathbf{W_1}} &= \\rm{ReLU}\\left ( \\mathbf{W_2^\\top} (\\mathbf{\\hat{y}} - \\mathbf{y})\\right )\\mathbf{x}^\\top \\tag{7}\\\\\n",
        " \\frac{\\partial J}{\\partial \\mathbf{W_2}} &= (\\mathbf{\\hat{y}} - \\mathbf{y})\\mathbf{h^\\top} \\tag{8}\\\\\n",
        " \\frac{\\partial J}{\\partial \\mathbf{b_1}} &= \\rm{ReLU}\\left ( \\mathbf{W_2^\\top} (\\mathbf{\\hat{y}} - \\mathbf{y})\\right ) \\tag{9}\\\\\n",
        " \\frac{\\partial J}{\\partial \\mathbf{b_2}} &= \\mathbf{\\hat{y}} - \\mathbf{y} \\tag{10}\n",
        "\\end{align}\n",
        "\n",
        "> Note: these formulas are slightly simplified compared to the ones in the lecture as you're working on a single training example, whereas the lecture provided the formulas for a batch of examples. In the assignment you'll be implementing the latter.\n",
        "\n",
        "Let's start with an easy one.\n",
        "\n",
        "**Calculate the partial derivative of the loss function with respect to $\\mathbf{b_2}$, and store the result in `grad_b2`.**\n",
        "\n",
        "$$\\frac{\\partial J}{\\partial \\mathbf{b_2}} = \\mathbf{\\hat{y}} - \\mathbf{y} \\tag{10}$$"
      ]
    },
    {
      "cell_type": "code",
      "execution_count": 71,
      "metadata": {
        "colab": {
          "base_uri": "https://localhost:8080/"
        },
        "id": "J_miEO9TGjrP",
        "outputId": "b7b79741-4d2e-4f7b-dfee-7d12ad1e9a29"
      },
      "outputs": [
        {
          "output_type": "execute_result",
          "data": {
            "text/plain": [
              "array([[ 0.18519074],\n",
              "       [ 0.19245626],\n",
              "       [-0.76892554],\n",
              "       [ 0.18236353],\n",
              "       [ 0.20891502]])"
            ]
          },
          "metadata": {},
          "execution_count": 71
        }
      ],
      "source": [
        "grad_b2 = y_hat - y\n",
        "\n",
        "grad_b2"
      ]
    },
    {
      "cell_type": "markdown",
      "metadata": {
        "id": "LWW0bkKnGjrQ"
      },
      "source": [
        "Expected output:\n",
        "\n",
        "    array([[ 0.18519074],\n",
        "           [ 0.19245626],\n",
        "           [-0.76892554],\n",
        "           [ 0.18236353],\n",
        "           [ 0.20891502]])"
      ]
    },
    {
      "cell_type": "markdown",
      "metadata": {
        "id": "aHnV8fvrGjrQ"
      },
      "source": [
        "**Next, calculate the partial derivative of the loss function with respect to $\\mathbf{W_2}$, and store the result in `grad_W2`.**\n",
        "\n",
        "$$\\frac{\\partial J}{\\partial \\mathbf{W_2}} = (\\mathbf{\\hat{y}} - \\mathbf{y})\\mathbf{h^\\top} \\tag{8}$$\n",
        "\n",
        "> Hint: use `.T` to get a transposed matrix, e.g. `h.T` returns $\\mathbf{h^\\top}$."
      ]
    },
    {
      "cell_type": "code",
      "execution_count": 72,
      "metadata": {
        "colab": {
          "base_uri": "https://localhost:8080/"
        },
        "id": "FyMdepDAGjrR",
        "outputId": "8c1e64e5-be9f-4a6d-aa3c-5e14496f9e95"
      },
      "outputs": [
        {
          "output_type": "execute_result",
          "data": {
            "text/plain": [
              "array([[ 0.06756476,  0.11798563,  0.        ],\n",
              "       [ 0.0702155 ,  0.12261452,  0.        ],\n",
              "       [-0.28053384, -0.48988499,  0.        ],\n",
              "       [ 0.06653328,  0.1161844 ,  0.        ],\n",
              "       [ 0.07622029,  0.13310045,  0.        ]])"
            ]
          },
          "metadata": {},
          "execution_count": 72
        }
      ],
      "source": [
        "grad_W2 = np.dot(y_hat - y, h.T)\n",
        "\n",
        "grad_W2"
      ]
    },
    {
      "cell_type": "markdown",
      "metadata": {
        "id": "I25z4ImXGjrR"
      },
      "source": [
        "Expected output:\n",
        "\n",
        "    array([[ 0.06756476,  0.11798563,  0.        ],\n",
        "           [ 0.0702155 ,  0.12261452,  0.        ],\n",
        "           [-0.28053384, -0.48988499,  0.        ],\n",
        "           [ 0.06653328,  0.1161844 ,  0.        ],\n",
        "           [ 0.07622029,  0.13310045,  0.        ]])"
      ]
    },
    {
      "cell_type": "markdown",
      "metadata": {
        "id": "oJNIYwA_GjrS"
      },
      "source": [
        "**Now calculate the partial derivative with respect to $\\mathbf{b_1}$ and store the result in `grad_b1`.**\n",
        "\n",
        "$$\\frac{\\partial J}{\\partial \\mathbf{b_1}} = \\rm{ReLU}\\left ( \\mathbf{W_2^\\top} (\\mathbf{\\hat{y}} - \\mathbf{y})\\right ) \\tag{9}$$"
      ]
    },
    {
      "cell_type": "code",
      "execution_count": 73,
      "metadata": {
        "colab": {
          "base_uri": "https://localhost:8080/"
        },
        "id": "VuZwXVgUGjrS",
        "outputId": "1bb3fde9-1c98-46d5-f072-858b2a553cfb"
      },
      "outputs": [
        {
          "output_type": "execute_result",
          "data": {
            "text/plain": [
              "array([[0.        ],\n",
              "       [0.        ],\n",
              "       [0.17045858]])"
            ]
          },
          "metadata": {},
          "execution_count": 73
        }
      ],
      "source": [
        "grad_b1 = relu(np.dot(W2.T, y_hat - y))\n",
        "\n",
        "grad_b1"
      ]
    },
    {
      "cell_type": "markdown",
      "metadata": {
        "id": "7dfSKzpCGjrT"
      },
      "source": [
        "Expected output:\n",
        "\n",
        "    array([[0.        ],\n",
        "           [0.        ],\n",
        "           [0.17045858]])"
      ]
    },
    {
      "cell_type": "markdown",
      "metadata": {
        "id": "3KIf3WIHGjrT"
      },
      "source": [
        "**Finally, calculate the partial derivative of the loss with respect to $\\mathbf{W_1}$, and store it in `grad_W1`.**\n",
        "\n",
        "$$\\frac{\\partial J}{\\partial \\mathbf{W_1}} = \\rm{ReLU}\\left ( \\mathbf{W_2^\\top} (\\mathbf{\\hat{y}} - \\mathbf{y})\\right )\\mathbf{x}^\\top \\tag{7}$$"
      ]
    },
    {
      "cell_type": "code",
      "execution_count": 74,
      "metadata": {
        "colab": {
          "base_uri": "https://localhost:8080/"
        },
        "id": "GbztNw9lGjrT",
        "outputId": "d43b3d0e-a756-426a-e80e-627ed17fcba8"
      },
      "outputs": [
        {
          "output_type": "execute_result",
          "data": {
            "text/plain": [
              "array([[0.        , 0.        , 0.        , 0.        , 0.        ],\n",
              "       [0.        , 0.        , 0.        , 0.        , 0.        ],\n",
              "       [0.04261464, 0.04261464, 0.        , 0.08522929, 0.        ]])"
            ]
          },
          "metadata": {},
          "execution_count": 74
        }
      ],
      "source": [
        "grad_W1 = np.dot(relu(np.dot(W2.T, y_hat - y)), x.T)\n",
        "\n",
        "grad_W1"
      ]
    },
    {
      "cell_type": "markdown",
      "metadata": {
        "id": "srSzdWUKGjrU"
      },
      "source": [
        "Expected output:\n",
        "\n",
        "    array([[0.        , 0.        , 0.        , 0.        , 0.        ],\n",
        "           [0.        , 0.        , 0.        , 0.        , 0.        ],\n",
        "           [0.04261464, 0.04261464, 0.        , 0.08522929, 0.        ]])"
      ]
    },
    {
      "cell_type": "markdown",
      "metadata": {
        "id": "ol5ePOx-GjrU"
      },
      "source": [
        "Before moving on to gradient descent, double-check that all the matrices have the expected dimensions."
      ]
    },
    {
      "cell_type": "code",
      "execution_count": 75,
      "metadata": {
        "colab": {
          "base_uri": "https://localhost:8080/"
        },
        "id": "TK90g0VdGjrV",
        "outputId": "2cac08cf-ce9b-4047-e635-788dda535f74"
      },
      "outputs": [
        {
          "output_type": "stream",
          "name": "stdout",
          "text": [
            "V (vocabulary size): 5\n",
            "N (embedding size / size of the hidden layer): 3\n",
            "size of grad_W1: (3, 5) (NxV)\n",
            "size of grad_b1: (3, 1) (Nx1)\n",
            "size of grad_W2: (5, 3) (VxN)\n",
            "size of grad_b2: (5, 1) (Vx1)\n"
          ]
        }
      ],
      "source": [
        "print(f'V (vocabulary size): {V}')\n",
        "print(f'N (embedding size / size of the hidden layer): {N}')\n",
        "print(f'size of grad_W1: {grad_W1.shape} (NxV)')\n",
        "print(f'size of grad_b1: {grad_b1.shape} (Nx1)')\n",
        "print(f'size of grad_W2: {grad_W2.shape} (VxN)')\n",
        "print(f'size of grad_b2: {grad_b2.shape} (Vx1)')"
      ]
    },
    {
      "cell_type": "markdown",
      "metadata": {
        "id": "RCQR_Mr-GjrV"
      },
      "source": [
        "## Gradient descent\n",
        "\n",
        "During the gradient descent phase, you will update the weights and biases by subtracting $\\alpha$ times the gradient from the original matrices and vectors, using the following formulas.\n",
        "\n",
        "\\begin{align}\n",
        " \\mathbf{W_1} &:= \\mathbf{W_1} - \\alpha \\frac{\\partial J}{\\partial \\mathbf{W_1}} \\tag{11}\\\\\n",
        " \\mathbf{W_2} &:= \\mathbf{W_2} - \\alpha \\frac{\\partial J}{\\partial \\mathbf{W_2}} \\tag{12}\\\\\n",
        " \\mathbf{b_1} &:= \\mathbf{b_1} - \\alpha \\frac{\\partial J}{\\partial \\mathbf{b_1}} \\tag{13}\\\\\n",
        " \\mathbf{b_2} &:= \\mathbf{b_2} - \\alpha \\frac{\\partial J}{\\partial \\mathbf{b_2}} \\tag{14}\\\\\n",
        "\\end{align}\n",
        "\n",
        "First, let set a value for $\\alpha$."
      ]
    },
    {
      "cell_type": "code",
      "execution_count": 76,
      "metadata": {
        "id": "5QLhc7wsGjrW"
      },
      "outputs": [],
      "source": [
        "alpha = 0.03"
      ]
    },
    {
      "cell_type": "markdown",
      "metadata": {
        "id": "zO-NZRhXGjrW"
      },
      "source": [
        "The updated weight matrix $\\mathbf{W_1}$ will be:"
      ]
    },
    {
      "cell_type": "code",
      "execution_count": 77,
      "metadata": {
        "id": "e-ZmuqbYGjrX"
      },
      "outputs": [],
      "source": [
        "W1_new = W1 - alpha * grad_W1"
      ]
    },
    {
      "cell_type": "markdown",
      "metadata": {
        "id": "0taY32c6GjrX"
      },
      "source": [
        "Let's compare the previous and new values of $\\mathbf{W_1}$:"
      ]
    },
    {
      "cell_type": "code",
      "execution_count": 78,
      "metadata": {
        "colab": {
          "base_uri": "https://localhost:8080/"
        },
        "id": "lWpbQig8GjrX",
        "outputId": "160106db-2d2c-4fb7-e664-919c52392fcc"
      },
      "outputs": [
        {
          "output_type": "stream",
          "name": "stdout",
          "text": [
            "old value of W1:\n",
            "[[ 0.41687358  0.08854191 -0.23495225  0.28320538  0.41800106]\n",
            " [ 0.32735501  0.22795148 -0.23951958  0.4117634  -0.23924344]\n",
            " [ 0.26637602 -0.23846886 -0.37770863 -0.11399446  0.34008124]]\n",
            "\n",
            "new value of W1:\n",
            "[[ 0.41687358  0.08854191 -0.23495225  0.28320538  0.41800106]\n",
            " [ 0.32735501  0.22795148 -0.23951958  0.4117634  -0.23924344]\n",
            " [ 0.26509758 -0.2397473  -0.37770863 -0.11655134  0.34008124]]\n"
          ]
        }
      ],
      "source": [
        "print('old value of W1:')\n",
        "print(W1)\n",
        "print()\n",
        "print('new value of W1:')\n",
        "print(W1_new)"
      ]
    },
    {
      "cell_type": "markdown",
      "metadata": {
        "id": "ySc_lkWMGjrY"
      },
      "source": [
        "The difference is very subtle (hint: take a closer look at the last row), which is why it takes a fair amount of iterations to train the neural network until it reaches optimal weights and biases starting from random values.\n",
        "\n",
        "**Now calculate the new values of $\\mathbf{W_2}$ (to be stored in `W2_new`), $\\mathbf{b_1}$ (in `b1_new`), and $\\mathbf{b_2}$ (in `b2_new`).**\n",
        "\n",
        "\\begin{align}\n",
        " \\mathbf{W_2} &:= \\mathbf{W_2} - \\alpha \\frac{\\partial J}{\\partial \\mathbf{W_2}} \\tag{12}\\\\\n",
        " \\mathbf{b_1} &:= \\mathbf{b_1} - \\alpha \\frac{\\partial J}{\\partial \\mathbf{b_1}} \\tag{13}\\\\\n",
        " \\mathbf{b_2} &:= \\mathbf{b_2} - \\alpha \\frac{\\partial J}{\\partial \\mathbf{b_2}} \\tag{14}\\\\\n",
        "\\end{align}"
      ]
    },
    {
      "cell_type": "code",
      "execution_count": 79,
      "metadata": {
        "colab": {
          "base_uri": "https://localhost:8080/"
        },
        "id": "egm_emwZGjrY",
        "outputId": "7fb4d6ed-ecab-4497-e30a-e15ff1393a65"
      },
      "outputs": [
        {
          "output_type": "stream",
          "name": "stdout",
          "text": [
            "W2_new\n",
            "[[-0.22384758 -0.43362588  0.13310965]\n",
            " [ 0.08265956  0.0775535   0.1772054 ]\n",
            " [ 0.19557112 -0.04637608 -0.1790735 ]\n",
            " [ 0.06855622 -0.02363691  0.36107434]\n",
            " [ 0.33251813 -0.3982269  -0.43959196]]\n",
            "\n",
            "b1_new\n",
            "[[ 0.09688219]\n",
            " [ 0.29239497]\n",
            " [-0.27875802]]\n",
            "\n",
            "b2_new\n",
            "[[ 0.02964508]\n",
            " [-0.36970753]\n",
            " [-0.10468778]\n",
            " [-0.35349417]\n",
            " [-0.0764456 ]]\n"
          ]
        }
      ],
      "source": [
        "W2_new = W2 - alpha * grad_W2\n",
        "b1_new = b1 - alpha * grad_b1\n",
        "b2_new = b2 - alpha * grad_b2\n",
        "\n",
        "print('W2_new')\n",
        "print(W2_new)\n",
        "print()\n",
        "print('b1_new')\n",
        "print(b1_new)\n",
        "print()\n",
        "print('b2_new')\n",
        "print(b2_new)"
      ]
    },
    {
      "cell_type": "markdown",
      "metadata": {
        "id": "vacXvZBlGjrZ"
      },
      "source": [
        "Expected output:\n",
        "\n",
        "    W2_new\n",
        "    [[-0.22384758 -0.43362588  0.13310965]\n",
        "     [ 0.08265956  0.0775535   0.1772054 ]\n",
        "     [ 0.19557112 -0.04637608 -0.1790735 ]\n",
        "     [ 0.06855622 -0.02363691  0.36107434]\n",
        "     [ 0.33251813 -0.3982269  -0.43959196]]\n",
        "\n",
        "    b1_new\n",
        "    [[ 0.09688219]\n",
        "     [ 0.29239497]\n",
        "     [-0.27875802]]\n",
        "\n",
        "    b2_new\n",
        "    [[ 0.02964508]\n",
        "     [-0.36970753]\n",
        "     [-0.10468778]\n",
        "     [-0.35349417]\n",
        "     [-0.0764456 ]]"
      ]
    },
    {
      "cell_type": "markdown",
      "metadata": {
        "id": "EV9prJX_GjrZ"
      },
      "source": [
        "Congratulations, you have completed one iteration of training using one training example!\n",
        "\n",
        "You'll need many more iterations to fully train the neural network, and you can optimize the learning process by training on batches of examples, as described in the lecture. You will get to do this during this week's assignment.\n",
        "\n",
        "## Extracting word embedding vectors\n",
        "\n",
        "Once you have finished training the neural network, you have three options to get word embedding vectors for the words of your vocabulary, based on the weight matrices $\\mathbf{W_1}$ and/or $\\mathbf{W_2}$.\n",
        "\n",
        "### Option 1: extract embedding vectors from $\\mathbf{W_1}$\n",
        "\n",
        "The first option is to take the columns of $\\mathbf{W_1}$ as the embedding vectors of the words of the vocabulary, using the same order of the words as for the input and output vectors.\n",
        "\n",
        "> Note: in this practice notebook the values of the word embedding vectors are meaningless after a single iteration with just one training example, but here's how you would proceed after the training process is complete.\n",
        "\n",
        "For example $\\mathbf{W_1}$ is this matrix:"
      ]
    },
    {
      "cell_type": "code",
      "execution_count": 80,
      "metadata": {
        "colab": {
          "base_uri": "https://localhost:8080/"
        },
        "id": "YVHOiR5nGjra",
        "outputId": "b9dd302f-32c0-49eb-a72d-da173f5fe845"
      },
      "outputs": [
        {
          "output_type": "execute_result",
          "data": {
            "text/plain": [
              "array([[ 0.41687358,  0.08854191, -0.23495225,  0.28320538,  0.41800106],\n",
              "       [ 0.32735501,  0.22795148, -0.23951958,  0.4117634 , -0.23924344],\n",
              "       [ 0.26637602, -0.23846886, -0.37770863, -0.11399446,  0.34008124]])"
            ]
          },
          "metadata": {},
          "execution_count": 80
        }
      ],
      "source": [
        "W1"
      ]
    },
    {
      "cell_type": "markdown",
      "metadata": {
        "id": "XJT4ObGRGjra"
      },
      "source": [
        "The first column, which is a 3-element vector, is the embedding vector of the first word of your vocabulary. The second column is the word embedding vector for the second word, and so on.\n",
        "\n",
        "The first, second, etc. words are ordered as follows."
      ]
    },
    {
      "cell_type": "code",
      "execution_count": 81,
      "metadata": {
        "colab": {
          "base_uri": "https://localhost:8080/"
        },
        "id": "GKPTpPZbGjrb",
        "outputId": "9eaa28d4-363f-4f26-dbab-62d25a081e11"
      },
      "outputs": [
        {
          "output_type": "stream",
          "name": "stdout",
          "text": [
            "am\n",
            "because\n",
            "happy\n",
            "i\n",
            "learning\n"
          ]
        }
      ],
      "source": [
        "for i in range(V):\n",
        "    print(Ind2word[i])"
      ]
    },
    {
      "cell_type": "markdown",
      "metadata": {
        "id": "A7DGoHooGjrc"
      },
      "source": [
        "So the word embedding vectors corresponding to each word are:"
      ]
    },
    {
      "cell_type": "code",
      "execution_count": 82,
      "metadata": {
        "colab": {
          "base_uri": "https://localhost:8080/"
        },
        "id": "LpcRucqOGjrd",
        "outputId": "bfa0edfc-214f-4e80-eea1-2a8027f99c5b"
      },
      "outputs": [
        {
          "output_type": "stream",
          "name": "stdout",
          "text": [
            "am: [0.41687358 0.32735501 0.26637602]\n",
            "because: [ 0.08854191  0.22795148 -0.23846886]\n",
            "happy: [-0.23495225 -0.23951958 -0.37770863]\n",
            "i: [ 0.28320538  0.4117634  -0.11399446]\n",
            "learning: [ 0.41800106 -0.23924344  0.34008124]\n"
          ]
        }
      ],
      "source": [
        "# loop through each word of the vocabulary\n",
        "for word in word2Ind:\n",
        "    # extract the column corresponding to the index of the word in the vocabulary\n",
        "    word_embedding_vector = W1[:, word2Ind[word]]\n",
        "\n",
        "    print(f'{word}: {word_embedding_vector}')"
      ]
    },
    {
      "cell_type": "markdown",
      "metadata": {
        "id": "V6225rzXGjrd"
      },
      "source": [
        "### Option 2: extract embedding vectors from $\\mathbf{W_2}$"
      ]
    },
    {
      "cell_type": "markdown",
      "metadata": {
        "id": "D82BTWZPGjre"
      },
      "source": [
        "The second option is to take $\\mathbf{W_2}$ transposed, and take its columns as the word embedding vectors just like you did for $\\mathbf{W_1}$."
      ]
    },
    {
      "cell_type": "code",
      "execution_count": 83,
      "metadata": {
        "colab": {
          "base_uri": "https://localhost:8080/"
        },
        "id": "UBabd2fAGjre",
        "outputId": "9a567dbb-fd18-437f-9d74-e3fdfd5acbbb"
      },
      "outputs": [
        {
          "output_type": "execute_result",
          "data": {
            "text/plain": [
              "array([[-0.22182064,  0.08476603,  0.1871551 ,  0.07055222,  0.33480474],\n",
              "       [-0.43008631,  0.08123194, -0.06107263, -0.02015138, -0.39423389],\n",
              "       [ 0.13310965,  0.1772054 , -0.1790735 ,  0.36107434, -0.43959196]])"
            ]
          },
          "metadata": {},
          "execution_count": 83
        }
      ],
      "source": [
        "W2.T"
      ]
    },
    {
      "cell_type": "code",
      "execution_count": 84,
      "metadata": {
        "colab": {
          "base_uri": "https://localhost:8080/"
        },
        "id": "UYyVigd3Gjrf",
        "outputId": "7db506f4-a96e-4b47-e86c-6b2633716382"
      },
      "outputs": [
        {
          "output_type": "stream",
          "name": "stdout",
          "text": [
            "am: [-0.22182064 -0.43008631  0.13310965]\n",
            "because: [0.08476603 0.08123194 0.1772054 ]\n",
            "happy: [ 0.1871551  -0.06107263 -0.1790735 ]\n",
            "i: [ 0.07055222 -0.02015138  0.36107434]\n",
            "learning: [ 0.33480474 -0.39423389 -0.43959196]\n"
          ]
        }
      ],
      "source": [
        "# loop through each word of the vocabulary\n",
        "for word in word2Ind:\n",
        "    # extract the column corresponding to the index of the word in the vocabulary\n",
        "    word_embedding_vector = W2.T[:, word2Ind[word]]\n",
        "\n",
        "    print(f'{word}: {word_embedding_vector}')"
      ]
    },
    {
      "cell_type": "markdown",
      "metadata": {
        "id": "1aIU-gdkGjrf"
      },
      "source": [
        "### Option 3: extract embedding vectors from $\\mathbf{W_1}$ and $\\mathbf{W_2}$"
      ]
    },
    {
      "cell_type": "markdown",
      "metadata": {
        "id": "AvKke8M-Gjrg"
      },
      "source": [
        "The third option, which is the one you will use in this week's assignment, uses the average of $\\mathbf{W_1}$ and $\\mathbf{W_2^\\top}$."
      ]
    },
    {
      "cell_type": "markdown",
      "metadata": {
        "id": "09jRyQaKGjrg"
      },
      "source": [
        "**Calculate the average of $\\mathbf{W_1}$ and $\\mathbf{W_2^\\top}$, and store the result in `W3`.**"
      ]
    },
    {
      "cell_type": "code",
      "execution_count": 85,
      "metadata": {
        "colab": {
          "base_uri": "https://localhost:8080/"
        },
        "id": "efaSiMoQGjrh",
        "outputId": "58620055-1b29-4146-c160-b0fd3220dfa0"
      },
      "outputs": [
        {
          "output_type": "execute_result",
          "data": {
            "text/plain": [
              "array([[ 0.09752647,  0.08665397, -0.02389858,  0.1768788 ,  0.3764029 ],\n",
              "       [-0.05136565,  0.15459171, -0.15029611,  0.19580601, -0.31673866],\n",
              "       [ 0.19974284, -0.03063173, -0.27839106,  0.12353994, -0.04975536]])"
            ]
          },
          "metadata": {},
          "execution_count": 85
        }
      ],
      "source": [
        "W3 = (W1+W2.T)/2\n",
        "\n",
        "W3"
      ]
    },
    {
      "cell_type": "markdown",
      "metadata": {
        "id": "A_jPE5d7Gjrh"
      },
      "source": [
        "Expected output:\n",
        "\n",
        "    array([[ 0.09752647,  0.08665397, -0.02389858,  0.1768788 ,  0.3764029 ],\n",
        "           [-0.05136565,  0.15459171, -0.15029611,  0.19580601, -0.31673866],\n",
        "           [ 0.19974284, -0.03063173, -0.27839106,  0.12353994, -0.04975536]])"
      ]
    },
    {
      "cell_type": "markdown",
      "metadata": {
        "id": "NYlX1skqGjri"
      },
      "source": [
        "Extracting the word embedding vectors works just like the two previous options, by taking the columns of the matrix you've just created."
      ]
    },
    {
      "cell_type": "code",
      "execution_count": 86,
      "metadata": {
        "colab": {
          "base_uri": "https://localhost:8080/"
        },
        "id": "DD_pcE5eGjri",
        "outputId": "ef62dd2d-89c3-4907-b633-e24e4724cd7b"
      },
      "outputs": [
        {
          "output_type": "stream",
          "name": "stdout",
          "text": [
            "am: [ 0.09752647 -0.05136565  0.19974284]\n",
            "because: [ 0.08665397  0.15459171 -0.03063173]\n",
            "happy: [-0.02389858 -0.15029611 -0.27839106]\n",
            "i: [0.1768788  0.19580601 0.12353994]\n",
            "learning: [ 0.3764029  -0.31673866 -0.04975536]\n"
          ]
        }
      ],
      "source": [
        "# loop through each word of the vocabulary\n",
        "for word in word2Ind:\n",
        "    # extract the column corresponding to the index of the word in the vocabulary\n",
        "    word_embedding_vector = W3[:, word2Ind[word]]\n",
        "\n",
        "    print(f'{word}: {word_embedding_vector}')"
      ]
    },
    {
      "cell_type": "markdown",
      "metadata": {
        "id": "_0eX3ZQIGjrj"
      },
      "source": [
        "You're now ready to take on this week's assignment!"
      ]
    },
    {
      "cell_type": "markdown",
      "metadata": {
        "id": "JUpYZWEEGjrj"
      },
      "source": [
        "### How this practice relates to and differs from the upcoming graded assignment\n",
        "\n",
        "- In the assignment, for each iteration of training you will use batches of examples instead of a single example. The formulas for forward propagation and backpropagation will be modified accordingly, and you will use cross-entropy cost instead of cross-entropy loss.\n",
        "- You will also complete several iterations of training, until you reach an acceptably low cross-entropy cost, at which point you can extract good word embeddings from the weight matrices.\n",
        "- After extracting the word embedding vectors, you will use principal component analysis (PCA) to visualize the vectors, which will enable you to perform an intrinsic evaluation of the quality of the vectors, as explained in the lecture."
      ]
    }
  ],
  "metadata": {
    "kernelspec": {
      "display_name": "Python 3",
      "language": "python",
      "name": "python3"
    },
    "language_info": {
      "codemirror_mode": {
        "name": "ipython",
        "version": 3
      },
      "file_extension": ".py",
      "mimetype": "text/x-python",
      "name": "python",
      "nbconvert_exporter": "python",
      "pygments_lexer": "ipython3",
      "version": "3.7.6"
    },
    "colab": {
      "provenance": [],
      "include_colab_link": true
    }
  },
  "nbformat": 4,
  "nbformat_minor": 0
}