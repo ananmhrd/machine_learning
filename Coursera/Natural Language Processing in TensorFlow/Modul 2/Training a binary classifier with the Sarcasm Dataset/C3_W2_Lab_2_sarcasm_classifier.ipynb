{
  "cells": [
    {
      "cell_type": "markdown",
      "metadata": {
        "id": "view-in-github",
        "colab_type": "text"
      },
      "source": [
        "<a href=\"https://colab.research.google.com/github/ananmhrd/machine_learning/blob/main/Coursera/Natural%20Language%20Processing%20in%20TensorFlow/Modul%202/Training%20a%20binary%20classifier%20with%20the%20Sarcasm%20Dataset/C3_W2_Lab_2_sarcasm_classifier.ipynb\" target=\"_parent\"><img src=\"https://colab.research.google.com/assets/colab-badge.svg\" alt=\"Open In Colab\"/></a>"
      ]
    },
    {
      "cell_type": "markdown",
      "metadata": {
        "id": "ZfVtdwryvvP6"
      },
      "source": [
        "# Ungraded Lab: Training a binary classifier with the Sarcasm Dataset\n",
        "\n",
        "In this lab, you will revisit the [News Headlines Dataset for Sarcasm Detection](https://www.kaggle.com/rmisra/news-headlines-dataset-for-sarcasm-detection/home) from last week and proceed to build a train a model on it. The steps will be very similar to the previous lab with IMDB Reviews with just some minor modifications. You can tweak the hyperparameters and see how it affects the results. Let's begin!"
      ]
    },
    {
      "cell_type": "markdown",
      "metadata": {
        "id": "aWIM6gplHqfx"
      },
      "source": [
        "## Download the dataset\n",
        "\n",
        "You will first download the JSON file, load it into your workspace and put the sentences and labels into lists."
      ]
    },
    {
      "cell_type": "code",
      "execution_count": 1,
      "metadata": {
        "id": "BQVuQrZNkPn9",
        "colab": {
          "base_uri": "https://localhost:8080/"
        },
        "outputId": "7a8737d3-a69d-413a-b85f-3f553a891e14"
      },
      "outputs": [
        {
          "output_type": "stream",
          "name": "stdout",
          "text": [
            "--2023-07-09 18:38:35--  https://storage.googleapis.com/tensorflow-1-public/course3/sarcasm.json\n",
            "Resolving storage.googleapis.com (storage.googleapis.com)... 172.217.218.128, 142.251.18.128, 142.250.153.128, ...\n",
            "Connecting to storage.googleapis.com (storage.googleapis.com)|172.217.218.128|:443... connected.\n",
            "HTTP request sent, awaiting response... 200 OK\n",
            "Length: 5643545 (5.4M) [application/json]\n",
            "Saving to: ‘sarcasm.json’\n",
            "\n",
            "sarcasm.json        100%[===================>]   5.38M  9.01MB/s    in 0.6s    \n",
            "\n",
            "2023-07-09 18:38:35 (9.01 MB/s) - ‘sarcasm.json’ saved [5643545/5643545]\n",
            "\n"
          ]
        }
      ],
      "source": [
        "# Download the dataset\n",
        "!wget https://storage.googleapis.com/tensorflow-1-public/course3/sarcasm.json"
      ]
    },
    {
      "cell_type": "code",
      "execution_count": 2,
      "metadata": {
        "id": "oaLaaqhNkUPd"
      },
      "outputs": [],
      "source": [
        "import json\n",
        "\n",
        "# Load the JSON file\n",
        "with open(\"./sarcasm.json\", 'r') as f:\n",
        "    datastore = json.load(f)\n",
        "\n",
        "# Initialize the lists\n",
        "sentences = []\n",
        "labels = []\n",
        "\n",
        "# Collect sentences and labels into the lists\n",
        "for item in datastore:\n",
        "    sentences.append(item['headline'])\n",
        "    labels.append(item['is_sarcastic'])"
      ]
    },
    {
      "cell_type": "markdown",
      "metadata": {
        "id": "kw1I6oNSfCxa"
      },
      "source": [
        "## Hyperparameters\n",
        "\n",
        "We placed the hyperparameters in the cell below so you can easily tweak it later:"
      ]
    },
    {
      "cell_type": "code",
      "execution_count": 3,
      "metadata": {
        "id": "wpF4x5olfHX-"
      },
      "outputs": [],
      "source": [
        "# Number of examples to use for training\n",
        "training_size = 20000\n",
        "\n",
        "# Vocabulary size of the tokenizer\n",
        "vocab_size = 10000\n",
        "\n",
        "# Maximum length of the padded sequences\n",
        "max_length = 32\n",
        "\n",
        "# Output dimensions of the Embedding layer\n",
        "embedding_dim = 16"
      ]
    },
    {
      "cell_type": "markdown",
      "metadata": {
        "id": "dHibcDI0H5Zj"
      },
      "source": [
        "## Split the dataset\n",
        "\n",
        "Next, you will generate your train and test datasets. You will use the `training_size` value you set above to slice the `sentences` and `labels` lists into two sublists: one fore training and another for testing."
      ]
    },
    {
      "cell_type": "code",
      "execution_count": 4,
      "metadata": {
        "id": "S1sD-7v0kYWk"
      },
      "outputs": [],
      "source": [
        "# Split the sentences\n",
        "training_sentences = sentences[0:training_size]\n",
        "testing_sentences = sentences[training_size:]\n",
        "\n",
        "# Split the labels\n",
        "training_labels = labels[0:training_size]\n",
        "testing_labels = labels[training_size:]"
      ]
    },
    {
      "cell_type": "markdown",
      "metadata": {
        "id": "qciTzNR7IHzJ"
      },
      "source": [
        "## Preprocessing the train and test sets\n",
        "\n",
        "Now you can preprocess the text and labels so it can be consumed by the model. You use the `Tokenizer` class to create the vocabulary and the `pad_sequences` method to generate padded token sequences. You will also need to set the labels to a numpy array so it can be a valid data type for `model.fit()`."
      ]
    },
    {
      "cell_type": "code",
      "execution_count": 5,
      "metadata": {
        "id": "3u8UB0MCkZ5N"
      },
      "outputs": [],
      "source": [
        "import numpy as np\n",
        "from tensorflow.keras.preprocessing.text import Tokenizer\n",
        "from tensorflow.keras.preprocessing.sequence import pad_sequences\n",
        "\n",
        "# Parameters for padding and OOV tokens\n",
        "trunc_type='post'\n",
        "padding_type='post'\n",
        "oov_tok = \"<OOV>\"\n",
        "\n",
        "# Initialize the Tokenizer class\n",
        "tokenizer = Tokenizer(num_words=vocab_size, oov_token=oov_tok)\n",
        "\n",
        "# Generate the word index dictionary\n",
        "tokenizer.fit_on_texts(training_sentences)\n",
        "word_index = tokenizer.word_index\n",
        "\n",
        "# Generate and pad the training sequences\n",
        "training_sequences = tokenizer.texts_to_sequences(training_sentences)\n",
        "training_padded = pad_sequences(training_sequences, maxlen=max_length, padding=padding_type, truncating=trunc_type)\n",
        "\n",
        "# Generate and pad the testing sequences\n",
        "testing_sequences = tokenizer.texts_to_sequences(testing_sentences)\n",
        "testing_padded = pad_sequences(testing_sequences, maxlen=max_length, padding=padding_type, truncating=trunc_type)\n",
        "\n",
        "# Convert the labels lists into numpy arrays\n",
        "training_labels = np.array(training_labels)\n",
        "testing_labels = np.array(testing_labels)"
      ]
    },
    {
      "cell_type": "markdown",
      "metadata": {
        "id": "AMF4afx2IdHo"
      },
      "source": [
        "## Build and Compile the Model\n",
        "\n",
        "Next, you will build the model. The architecture is similar to the previous lab but you will use a [GlobalAveragePooling1D](https://www.tensorflow.org/api_docs/python/tf/keras/layers/GlobalAveragePooling1D) layer instead of `Flatten` after the Embedding. This adds the task of averaging over the sequence dimension before connecting to the dense layers. See a short demo of how this works using the snippet below. Notice that it gets the average over 3 arrays (i.e. `(10 + 1 + 1) / 3` and `(2 + 3 + 1) / 3` to arrive at the final output."
      ]
    },
    {
      "cell_type": "code",
      "execution_count": 6,
      "metadata": {
        "id": "7KDCvSc0kFOz",
        "colab": {
          "base_uri": "https://localhost:8080/"
        },
        "outputId": "149a18f2-2a2d-4c02-cd0a-2ea06e1339f9"
      },
      "outputs": [
        {
          "output_type": "stream",
          "name": "stdout",
          "text": [
            "shape of sample_array = (1, 3, 2)\n",
            "sample array: [[[10  2]\n",
            "  [ 1  3]\n",
            "  [ 1  1]]]\n",
            "output shape of gap1d_layer: (1, 2)\n",
            "output array of gap1d_layer: [[4 2]]\n"
          ]
        }
      ],
      "source": [
        "import tensorflow as tf\n",
        "\n",
        "# Initialize a GlobalAveragePooling1D (GAP1D) layer\n",
        "gap1d_layer = tf.keras.layers.GlobalAveragePooling1D()\n",
        "\n",
        "# Define sample array\n",
        "sample_array = np.array([[[10,2],[1,3],[1,1]]])\n",
        "\n",
        "# Print shape and contents of sample array\n",
        "print(f'shape of sample_array = {sample_array.shape}')\n",
        "print(f'sample array: {sample_array}')\n",
        "\n",
        "# Pass the sample array to the GAP1D layer\n",
        "output = gap1d_layer(sample_array)\n",
        "\n",
        "# Print shape and contents of the GAP1D output array\n",
        "print(f'output shape of gap1d_layer: {output.shape}')\n",
        "print(f'output array of gap1d_layer: {output.numpy()}')"
      ]
    },
    {
      "cell_type": "markdown",
      "metadata": {
        "id": "evlU_kqOshc4"
      },
      "source": [
        "This added computation reduces the dimensionality of the model as compared to using `Flatten()` and thus, the number of training parameters will also decrease. See the output of `model.summary()` below and see how it compares if you swap out the pooling layer with a simple `Flatten()`."
      ]
    },
    {
      "cell_type": "code",
      "execution_count": 7,
      "metadata": {
        "id": "FufaT4vlkiDE",
        "colab": {
          "base_uri": "https://localhost:8080/"
        },
        "outputId": "2a4ef2c1-c6a1-4c43-8767-4858f7c3cc64"
      },
      "outputs": [
        {
          "output_type": "stream",
          "name": "stdout",
          "text": [
            "Model: \"sequential\"\n",
            "_________________________________________________________________\n",
            " Layer (type)                Output Shape              Param #   \n",
            "=================================================================\n",
            " embedding (Embedding)       (None, 32, 16)            160000    \n",
            "                                                                 \n",
            " global_average_pooling1d_1   (None, 16)               0         \n",
            " (GlobalAveragePooling1D)                                        \n",
            "                                                                 \n",
            " dense (Dense)               (None, 24)                408       \n",
            "                                                                 \n",
            " dense_1 (Dense)             (None, 1)                 25        \n",
            "                                                                 \n",
            "=================================================================\n",
            "Total params: 160,433\n",
            "Trainable params: 160,433\n",
            "Non-trainable params: 0\n",
            "_________________________________________________________________\n"
          ]
        }
      ],
      "source": [
        "# Build the model\n",
        "model = tf.keras.Sequential([\n",
        "    tf.keras.layers.Embedding(vocab_size, embedding_dim, input_length=max_length),\n",
        "    tf.keras.layers.GlobalAveragePooling1D(),\n",
        "    tf.keras.layers.Dense(24, activation='relu'),\n",
        "    tf.keras.layers.Dense(1, activation='sigmoid')\n",
        "])\n",
        "\n",
        "# Print the model summary\n",
        "model.summary()"
      ]
    },
    {
      "cell_type": "markdown",
      "metadata": {
        "id": "GMxT5NzKtRgr"
      },
      "source": [
        "You will use the same loss, optimizer, and metrics from the previous lab."
      ]
    },
    {
      "cell_type": "code",
      "execution_count": 8,
      "metadata": {
        "id": "XfDt1hmYkiys"
      },
      "outputs": [],
      "source": [
        "# Compile the model\n",
        "model.compile(loss='binary_crossentropy',optimizer='adam',metrics=['accuracy'])"
      ]
    },
    {
      "cell_type": "markdown",
      "metadata": {
        "id": "Axtd-WQAJIUK"
      },
      "source": [
        "## Train the Model\n",
        "\n",
        "Now you will feed in the prepared datasets to train the model. If you used the default hyperparameters, you will get around 99% training accuracy and 80% validation accuracy.\n",
        "\n",
        "*Tip: You can set the `verbose` parameter of `model.fit()` to `2` to indicate that you want to print just the results per epoch. Setting it to `1` (default) displays a progress bar per epoch, while `0` silences all displays. It doesn't matter much in this Colab but when working in a production environment, you may want to set this to `2` as recommended in the [documentation](https://keras.io/api/models/model_training_apis/#fit-method).*"
      ]
    },
    {
      "cell_type": "code",
      "execution_count": 9,
      "metadata": {
        "id": "2DTKQFf1kkyc",
        "colab": {
          "base_uri": "https://localhost:8080/"
        },
        "outputId": "da14dc50-6617-494a-895c-1e4b0f76ef16"
      },
      "outputs": [
        {
          "output_type": "stream",
          "name": "stdout",
          "text": [
            "Epoch 1/30\n",
            "625/625 - 7s - loss: 0.5637 - accuracy: 0.7027 - val_loss: 0.3925 - val_accuracy: 0.8351 - 7s/epoch - 11ms/step\n",
            "Epoch 2/30\n",
            "625/625 - 4s - loss: 0.3098 - accuracy: 0.8767 - val_loss: 0.3469 - val_accuracy: 0.8480 - 4s/epoch - 6ms/step\n",
            "Epoch 3/30\n",
            "625/625 - 4s - loss: 0.2336 - accuracy: 0.9068 - val_loss: 0.3418 - val_accuracy: 0.8547 - 4s/epoch - 6ms/step\n",
            "Epoch 4/30\n",
            "625/625 - 5s - loss: 0.1882 - accuracy: 0.9291 - val_loss: 0.3590 - val_accuracy: 0.8532 - 5s/epoch - 8ms/step\n",
            "Epoch 5/30\n",
            "625/625 - 4s - loss: 0.1553 - accuracy: 0.9429 - val_loss: 0.3866 - val_accuracy: 0.8512 - 4s/epoch - 6ms/step\n",
            "Epoch 6/30\n",
            "625/625 - 3s - loss: 0.1317 - accuracy: 0.9532 - val_loss: 0.4172 - val_accuracy: 0.8484 - 3s/epoch - 5ms/step\n",
            "Epoch 7/30\n",
            "625/625 - 2s - loss: 0.1124 - accuracy: 0.9611 - val_loss: 0.4577 - val_accuracy: 0.8416 - 2s/epoch - 3ms/step\n",
            "Epoch 8/30\n",
            "625/625 - 3s - loss: 0.0966 - accuracy: 0.9672 - val_loss: 0.5032 - val_accuracy: 0.8381 - 3s/epoch - 5ms/step\n",
            "Epoch 9/30\n",
            "625/625 - 2s - loss: 0.0837 - accuracy: 0.9714 - val_loss: 0.5507 - val_accuracy: 0.8348 - 2s/epoch - 3ms/step\n",
            "Epoch 10/30\n",
            "625/625 - 2s - loss: 0.0732 - accuracy: 0.9768 - val_loss: 0.5996 - val_accuracy: 0.8317 - 2s/epoch - 4ms/step\n",
            "Epoch 11/30\n",
            "625/625 - 2s - loss: 0.0636 - accuracy: 0.9798 - val_loss: 0.6400 - val_accuracy: 0.8305 - 2s/epoch - 4ms/step\n",
            "Epoch 12/30\n",
            "625/625 - 2s - loss: 0.0559 - accuracy: 0.9831 - val_loss: 0.6998 - val_accuracy: 0.8234 - 2s/epoch - 4ms/step\n",
            "Epoch 13/30\n",
            "625/625 - 3s - loss: 0.0488 - accuracy: 0.9851 - val_loss: 0.7565 - val_accuracy: 0.8189 - 3s/epoch - 4ms/step\n",
            "Epoch 14/30\n",
            "625/625 - 3s - loss: 0.0433 - accuracy: 0.9865 - val_loss: 0.7920 - val_accuracy: 0.8210 - 3s/epoch - 4ms/step\n",
            "Epoch 15/30\n",
            "625/625 - 2s - loss: 0.0375 - accuracy: 0.9893 - val_loss: 0.8549 - val_accuracy: 0.8150 - 2s/epoch - 3ms/step\n",
            "Epoch 16/30\n",
            "625/625 - 2s - loss: 0.0343 - accuracy: 0.9902 - val_loss: 0.9181 - val_accuracy: 0.8134 - 2s/epoch - 3ms/step\n",
            "Epoch 17/30\n",
            "625/625 - 2s - loss: 0.0297 - accuracy: 0.9919 - val_loss: 0.9733 - val_accuracy: 0.8125 - 2s/epoch - 4ms/step\n",
            "Epoch 18/30\n",
            "625/625 - 3s - loss: 0.0252 - accuracy: 0.9931 - val_loss: 1.0295 - val_accuracy: 0.8117 - 3s/epoch - 4ms/step\n",
            "Epoch 19/30\n",
            "625/625 - 3s - loss: 0.0230 - accuracy: 0.9937 - val_loss: 1.0953 - val_accuracy: 0.8103 - 3s/epoch - 4ms/step\n",
            "Epoch 20/30\n",
            "625/625 - 2s - loss: 0.0224 - accuracy: 0.9938 - val_loss: 1.1498 - val_accuracy: 0.8077 - 2s/epoch - 3ms/step\n",
            "Epoch 21/30\n",
            "625/625 - 2s - loss: 0.0191 - accuracy: 0.9947 - val_loss: 1.2121 - val_accuracy: 0.8061 - 2s/epoch - 3ms/step\n",
            "Epoch 22/30\n",
            "625/625 - 2s - loss: 0.0190 - accuracy: 0.9942 - val_loss: 1.2715 - val_accuracy: 0.8070 - 2s/epoch - 4ms/step\n",
            "Epoch 23/30\n",
            "625/625 - 2s - loss: 0.0162 - accuracy: 0.9952 - val_loss: 1.3234 - val_accuracy: 0.8065 - 2s/epoch - 3ms/step\n",
            "Epoch 24/30\n",
            "625/625 - 3s - loss: 0.0139 - accuracy: 0.9959 - val_loss: 1.3810 - val_accuracy: 0.8035 - 3s/epoch - 5ms/step\n",
            "Epoch 25/30\n",
            "625/625 - 2s - loss: 0.0118 - accuracy: 0.9968 - val_loss: 1.4430 - val_accuracy: 0.8044 - 2s/epoch - 3ms/step\n",
            "Epoch 26/30\n",
            "625/625 - 2s - loss: 0.0126 - accuracy: 0.9962 - val_loss: 1.4963 - val_accuracy: 0.8052 - 2s/epoch - 4ms/step\n",
            "Epoch 27/30\n",
            "625/625 - 2s - loss: 0.0106 - accuracy: 0.9967 - val_loss: 1.5686 - val_accuracy: 0.8035 - 2s/epoch - 4ms/step\n",
            "Epoch 28/30\n",
            "625/625 - 2s - loss: 0.0087 - accuracy: 0.9976 - val_loss: 1.6470 - val_accuracy: 0.8016 - 2s/epoch - 4ms/step\n",
            "Epoch 29/30\n",
            "625/625 - 3s - loss: 0.0091 - accuracy: 0.9973 - val_loss: 1.7267 - val_accuracy: 0.8025 - 3s/epoch - 5ms/step\n",
            "Epoch 30/30\n",
            "625/625 - 2s - loss: 0.0078 - accuracy: 0.9975 - val_loss: 1.7821 - val_accuracy: 0.8038 - 2s/epoch - 4ms/step\n"
          ]
        }
      ],
      "source": [
        "num_epochs = 30\n",
        "\n",
        "# Train the model\n",
        "history = model.fit(training_padded, training_labels, epochs=num_epochs, validation_data=(testing_padded, testing_labels), verbose=2)"
      ]
    },
    {
      "cell_type": "markdown",
      "metadata": {
        "id": "L_bWhGOSJLLm"
      },
      "source": [
        "## Visualize the Results\n",
        "\n",
        "You can use the cell below to plot the training results. You may notice some overfitting because your validation accuracy is slowly dropping while the training accuracy is still going up. See if you can improve it by tweaking the hyperparameters. Some example values are shown in the lectures."
      ]
    },
    {
      "cell_type": "code",
      "execution_count": 10,
      "metadata": {
        "id": "2HYfBKXjkmU8",
        "colab": {
          "base_uri": "https://localhost:8080/",
          "height": 881
        },
        "outputId": "19b6db31-9e71-47d5-c37c-d23b7f09e822"
      },
      "outputs": [
        {
          "output_type": "display_data",
          "data": {
            "text/plain": [
              "<Figure size 640x480 with 1 Axes>"
            ],
            "image/png": "[encoded data removed]"
          },
          "metadata": {}
        },
        {
          "output_type": "display_data",
          "data": {
            "text/plain": [
              "<Figure size 640x480 with 1 Axes>"
            ],
            "image/png": "[encoded data removed]"
          },
          "metadata": {}
        }
      ],
      "source": [
        "import matplotlib.pyplot as plt\n",
        "\n",
        "# Plot utility\n",
        "def plot_graphs(history, string):\n",
        "  plt.plot(history.history[string])\n",
        "  plt.plot(history.history['val_'+string])\n",
        "  plt.xlabel(\"Epochs\")\n",
        "  plt.ylabel(string)\n",
        "  plt.legend([string, 'val_'+string])\n",
        "  plt.show()\n",
        "\n",
        "# Plot the accuracy and loss\n",
        "plot_graphs(history, \"accuracy\")\n",
        "plot_graphs(history, \"loss\")"
      ]
    },
    {
      "cell_type": "markdown",
      "metadata": {
        "id": "JN6kaxxcJQgd"
      },
      "source": [
        "## Visualize Word Embeddings\n",
        "\n",
        "As before, you can visualize the final weights of the embeddings using the [Tensorflow Embedding Projector](https://projector.tensorflow.org/)."
      ]
    },
    {
      "cell_type": "code",
      "execution_count": 11,
      "metadata": {
        "id": "c9MqihtEkzQ9",
        "colab": {
          "base_uri": "https://localhost:8080/"
        },
        "outputId": "cdd4493e-aca5-4818-b360-a89e18987293"
      },
      "outputs": [
        {
          "output_type": "stream",
          "name": "stdout",
          "text": [
            "(10000, 16)\n"
          ]
        }
      ],
      "source": [
        "# Get the index-word dictionary\n",
        "reverse_word_index = tokenizer.index_word\n",
        "\n",
        "# Get the embedding layer from the model (i.e. first layer)\n",
        "embedding_layer = model.layers[0]\n",
        "\n",
        "# Get the weights of the embedding layer\n",
        "embedding_weights = embedding_layer.get_weights()[0]\n",
        "\n",
        "# Print the shape. Expected is (vocab_size, embedding_dim)\n",
        "print(embedding_weights.shape)\n"
      ]
    },
    {
      "cell_type": "code",
      "execution_count": 12,
      "metadata": {
        "id": "LoBXVffknldU"
      },
      "outputs": [],
      "source": [
        "import io\n",
        "\n",
        "# Open writeable files\n",
        "out_v = io.open('vecs.tsv', 'w', encoding='utf-8')\n",
        "out_m = io.open('meta.tsv', 'w', encoding='utf-8')\n",
        "\n",
        "# Initialize the loop. Start counting at `1` because `0` is just for the padding\n",
        "for word_num in range(1, vocab_size):\n",
        "\n",
        "  # Get the word associated at the current index\n",
        "  word_name = reverse_word_index[word_num]\n",
        "\n",
        "  # Get the embedding weights associated with the current index\n",
        "  word_embedding = embedding_weights[word_num]\n",
        "\n",
        "  # Write the word name\n",
        "  out_m.write(word_name + \"\\n\")\n",
        "\n",
        "  # Write the word embedding\n",
        "  out_v.write('\\t'.join([str(x) for x in word_embedding]) + \"\\n\")\n",
        "\n",
        "# Close the files\n",
        "out_v.close()\n",
        "out_m.close()"
      ]
    },
    {
      "cell_type": "code",
      "execution_count": 13,
      "metadata": {
        "id": "U4eZ5HtVnnEE",
        "colab": {
          "base_uri": "https://localhost:8080/",
          "height": 17
        },
        "outputId": "7697bc35-6731-4510-84c5-e77a8e1209fa"
      },
      "outputs": [
        {
          "output_type": "display_data",
          "data": {
            "text/plain": [
              "<IPython.core.display.Javascript object>"
            ],
            "application/javascript": [
              "\n",
              "    async function download(id, filename, size) {\n",
              "      if (!google.colab.kernel.accessAllowed) {\n",
              "        return;\n",
              "      }\n",
              "      const div = document.createElement('div');\n",
              "      const label = document.createElement('label');\n",
              "      label.textContent = `Downloading \"${filename}\": `;\n",
              "      div.appendChild(label);\n",
              "      const progress = document.createElement('progress');\n",
              "      progress.max = size;\n",
              "      div.appendChild(progress);\n",
              "      document.body.appendChild(div);\n",
              "\n",
              "      const buffers = [];\n",
              "      let downloaded = 0;\n",
              "\n",
              "      const channel = await google.colab.kernel.comms.open(id);\n",
              "      // Send a message to notify the kernel that we're ready.\n",
              "      channel.send({})\n",
              "\n",
              "      for await (const message of channel.messages) {\n",
              "        // Send a message to notify the kernel that we're ready.\n",
              "        channel.send({})\n",
              "        if (message.buffers) {\n",
              "          for (const buffer of message.buffers) {\n",
              "            buffers.push(buffer);\n",
              "            downloaded += buffer.byteLength;\n",
              "            progress.value = downloaded;\n",
              "          }\n",
              "        }\n",
              "      }\n",
              "      const blob = new Blob(buffers, {type: 'application/binary'});\n",
              "      const a = document.createElement('a');\n",
              "      a.href = window.URL.createObjectURL(blob);\n",
              "      a.download = filename;\n",
              "      div.appendChild(a);\n",
              "      a.click();\n",
              "      div.remove();\n",
              "    }\n",
              "  "
            ]
          },
          "metadata": {}
        },
        {
          "output_type": "display_data",
          "data": {
            "text/plain": [
              "<IPython.core.display.Javascript object>"
            ],
            "application/javascript": [
              "download(\"download_0e564ec9-6d5c-4f3b-906b-85077deb1f97\", \"vecs.tsv\", 1841661)"
            ]
          },
          "metadata": {}
        },
        {
          "output_type": "display_data",
          "data": {
            "text/plain": [
              "<IPython.core.display.Javascript object>"
            ],
            "application/javascript": [
              "\n",
              "    async function download(id, filename, size) {\n",
              "      if (!google.colab.kernel.accessAllowed) {\n",
              "        return;\n",
              "      }\n",
              "      const div = document.createElement('div');\n",
              "      const label = document.createElement('label');\n",
              "      label.textContent = `Downloading \"${filename}\": `;\n",
              "      div.appendChild(label);\n",
              "      const progress = document.createElement('progress');\n",
              "      progress.max = size;\n",
              "      div.appendChild(progress);\n",
              "      document.body.appendChild(div);\n",
              "\n",
              "      const buffers = [];\n",
              "      let downloaded = 0;\n",
              "\n",
              "      const channel = await google.colab.kernel.comms.open(id);\n",
              "      // Send a message to notify the kernel that we're ready.\n",
              "      channel.send({})\n",
              "\n",
              "      for await (const message of channel.messages) {\n",
              "        // Send a message to notify the kernel that we're ready.\n",
              "        channel.send({})\n",
              "        if (message.buffers) {\n",
              "          for (const buffer of message.buffers) {\n",
              "            buffers.push(buffer);\n",
              "            downloaded += buffer.byteLength;\n",
              "            progress.value = downloaded;\n",
              "          }\n",
              "        }\n",
              "      }\n",
              "      const blob = new Blob(buffers, {type: 'application/binary'});\n",
              "      const a = document.createElement('a');\n",
              "      a.href = window.URL.createObjectURL(blob);\n",
              "      a.download = filename;\n",
              "      div.appendChild(a);\n",
              "      a.click();\n",
              "      div.remove();\n",
              "    }\n",
              "  "
            ]
          },
          "metadata": {}
        },
        {
          "output_type": "display_data",
          "data": {
            "text/plain": [
              "<IPython.core.display.Javascript object>"
            ],
            "application/javascript": [
              "download(\"download_2ead9cd7-7123-40e0-8695-75d65084c1ef\", \"meta.tsv\", 75974)"
            ]
          },
          "metadata": {}
        }
      ],
      "source": [
        "# Import files utilities in Colab\n",
        "try:\n",
        "  from google.colab import files\n",
        "except ImportError:\n",
        "  pass\n",
        "\n",
        "# Download the files\n",
        "else:\n",
        "  files.download('vecs.tsv')\n",
        "  files.download('meta.tsv')"
      ]
    },
    {
      "cell_type": "markdown",
      "metadata": {
        "id": "1GierJvdJWMt"
      },
      "source": [
        "## Wrap Up\n",
        "\n",
        "In this lab, you were able to build a binary classifier to detect sarcasm. You saw some overfitting in the initial attempt and hopefully, you were able to arrive at a better set of hyperparameters.\n",
        "\n",
        "So far, you've been tokenizing datasets from scratch and you're treating the vocab size as a hyperparameter. Furthermore, you're tokenizing the texts by building a vocabulary of full words. In the next lab, you will make use of a pre-tokenized dataset that uses a vocabulary of *subwords*. For instance, instead of having a uniqe token for the word `Tensorflow`, it will instead have a token each for `Ten`, `sor`, and `flow`. You will see the motivation and implications of having this design in the next exercise. See you there!"
      ]
    }
  ],
  "metadata": {
    "colab": {
      "provenance": [],
      "include_colab_link": true
    },
    "kernelspec": {
      "display_name": "Python 3",
      "name": "python3"
    },
    "language_info": {
      "codemirror_mode": {
        "name": "ipython",
        "version": 3
      },
      "file_extension": ".py",
      "mimetype": "text/x-python",
      "name": "python",
      "nbconvert_exporter": "python",
      "pygments_lexer": "ipython3",
      "version": "3.7.4"
    }
  },
  "nbformat": 4,
  "nbformat_minor": 0
}