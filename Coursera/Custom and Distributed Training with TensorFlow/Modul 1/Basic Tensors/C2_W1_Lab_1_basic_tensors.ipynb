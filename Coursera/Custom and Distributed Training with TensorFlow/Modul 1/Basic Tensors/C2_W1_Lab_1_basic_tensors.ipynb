{
  "cells": [
    {
      "cell_type": "markdown",
      "metadata": {
        "id": "view-in-github",
        "colab_type": "text"
      },
      "source": [
        "<a href=\"https://colab.research.google.com/github/ananmhrd/machine_learning/blob/main/Coursera/Custom%20and%20Distributed%20Training%20with%20TensorFlow/Modul%201/Basic%20Tensors/C2_W1_Lab_1_basic_tensors.ipynb\" target=\"_parent\"><img src=\"https://colab.research.google.com/assets/colab-badge.svg\" alt=\"Open In Colab\"/></a>"
      ]
    },
    {
      "cell_type": "markdown",
      "metadata": {
        "id": "WVm5MybxROv0"
      },
      "source": [
        "# Basic Tensors"
      ]
    },
    {
      "cell_type": "markdown",
      "metadata": {
        "id": "iyWJJoljROv_"
      },
      "source": [
        "In this ungraded lab, you will try some of the basic operations you can perform on tensors."
      ]
    },
    {
      "cell_type": "markdown",
      "metadata": {
        "id": "to9doXxOROwB"
      },
      "source": [
        "## Imports"
      ]
    },
    {
      "cell_type": "code",
      "execution_count": 1,
      "metadata": {
        "id": "jqev488WJ9-R",
        "colab": {
          "base_uri": "https://localhost:8080/"
        },
        "outputId": "2c727ac5-3bf1-464f-cb6e-57e5e4d57f31"
      },
      "outputs": [
        {
          "output_type": "stream",
          "name": "stdout",
          "text": [
            "Colab only includes TensorFlow 2.x; %tensorflow_version has no effect.\n"
          ]
        }
      ],
      "source": [
        "try:\n",
        "    # %tensorflow_version only exists in Colab.\n",
        "    %tensorflow_version 2.x\n",
        "except Exception:\n",
        "    pass\n",
        "\n",
        "import tensorflow as tf\n",
        "import numpy as np"
      ]
    },
    {
      "cell_type": "markdown",
      "metadata": {
        "id": "sIIXMZboUw-P"
      },
      "source": [
        "## Exercise on basic Tensor operations\n",
        "\n",
        "Lets create a single dimension numpy array on which you can perform some operation. You'll make an array of size 25, holding values from 0 to 24."
      ]
    },
    {
      "cell_type": "code",
      "execution_count": 2,
      "metadata": {
        "id": "GkBZyS8hKNXX",
        "colab": {
          "base_uri": "https://localhost:8080/"
        },
        "outputId": "36c4a938-8187-4031-d8fe-f411413d0ce4"
      },
      "outputs": [
        {
          "output_type": "execute_result",
          "data": {
            "text/plain": [
              "array([ 0,  1,  2,  3,  4,  5,  6,  7,  8,  9, 10, 11, 12, 13, 14, 15, 16,\n",
              "       17, 18, 19, 20, 21, 22, 23, 24])"
            ]
          },
          "metadata": {},
          "execution_count": 2
        }
      ],
      "source": [
        "# Create a 1D uint8 NumPy array comprising of first 25 natural numbers\n",
        "x = np.arange(0, 25)\n",
        "x"
      ]
    },
    {
      "cell_type": "markdown",
      "metadata": {
        "id": "Z4j29xBUROwK"
      },
      "source": [
        "Now that you have your 1-D array, next you'll change that array into a `tensor`. After running the code block below, take a moment to inspect the information of your tensor."
      ]
    },
    {
      "cell_type": "code",
      "execution_count": 3,
      "metadata": {
        "id": "MYdVyiSoLPgO",
        "colab": {
          "base_uri": "https://localhost:8080/"
        },
        "outputId": "9eb6e313-8876-45bb-f604-0b0026ffeff6"
      },
      "outputs": [
        {
          "output_type": "execute_result",
          "data": {
            "text/plain": [
              "<tf.Tensor: shape=(25,), dtype=int64, numpy=\n",
              "array([ 0,  1,  2,  3,  4,  5,  6,  7,  8,  9, 10, 11, 12, 13, 14, 15, 16,\n",
              "       17, 18, 19, 20, 21, 22, 23, 24])>"
            ]
          },
          "metadata": {},
          "execution_count": 3
        }
      ],
      "source": [
        "# Convert NumPy array to Tensor using `tf.constant`\n",
        "x = tf.constant(x)\n",
        "x"
      ]
    },
    {
      "cell_type": "markdown",
      "metadata": {
        "id": "BJNqZqw5ROwN"
      },
      "source": [
        "As the first operation to be performed, you'll square (element-wise) all the values in the tensor `x`"
      ]
    },
    {
      "cell_type": "code",
      "execution_count": 4,
      "metadata": {
        "id": "W6BTwNJCLjV8",
        "colab": {
          "base_uri": "https://localhost:8080/"
        },
        "outputId": "c94baee8-dbdd-4e99-f0a0-dedee3140a03"
      },
      "outputs": [
        {
          "output_type": "execute_result",
          "data": {
            "text/plain": [
              "<tf.Tensor: shape=(25,), dtype=int64, numpy=\n",
              "array([  0,   1,   4,   9,  16,  25,  36,  49,  64,  81, 100, 121, 144,\n",
              "       169, 196, 225, 256, 289, 324, 361, 400, 441, 484, 529, 576])>"
            ]
          },
          "metadata": {},
          "execution_count": 4
        }
      ],
      "source": [
        "# Square the input tensor x\n",
        "x = tf.square(x)\n",
        "x"
      ]
    },
    {
      "cell_type": "markdown",
      "metadata": {
        "id": "tlMc64BpROwP"
      },
      "source": [
        "One feature of tensors is that they can be reshaped. When reshpaing, make sure you consider dimensions that will include all of the values of the tensor."
      ]
    },
    {
      "cell_type": "code",
      "execution_count": 5,
      "metadata": {
        "id": "7nzBSX8-L0Xt",
        "colab": {
          "base_uri": "https://localhost:8080/"
        },
        "outputId": "032fea01-15bf-480f-ebd9-0b08450765c9"
      },
      "outputs": [
        {
          "output_type": "execute_result",
          "data": {
            "text/plain": [
              "<tf.Tensor: shape=(5, 5), dtype=int64, numpy=\n",
              "array([[  0,   1,   4,   9,  16],\n",
              "       [ 25,  36,  49,  64,  81],\n",
              "       [100, 121, 144, 169, 196],\n",
              "       [225, 256, 289, 324, 361],\n",
              "       [400, 441, 484, 529, 576]])>"
            ]
          },
          "metadata": {},
          "execution_count": 5
        }
      ],
      "source": [
        "# Reshape tensor x into a 5 x 5 matrix.\n",
        "x = tf.reshape(x, (5, 5))\n",
        "x"
      ]
    },
    {
      "cell_type": "markdown",
      "metadata": {
        "id": "CQ1COwpaROwQ"
      },
      "source": [
        "Notice that you'll get an error message if you choose a shape that cannot be exactly filled with the values of the given tensor.  \n",
        "* Run the cell below and look at the error message\n",
        "* Try to change the tuple that is passed to `shape` to avoid an error."
      ]
    },
    {
      "cell_type": "code",
      "execution_count": 6,
      "metadata": {
        "colab": {
          "base_uri": "https://localhost:8080/"
        },
        "id": "_dzfpT92ROwR",
        "outputId": "dabfc1d3-3868-4d86-e742-74c41b1fdaaf"
      },
      "outputs": [
        {
          "output_type": "execute_result",
          "data": {
            "text/plain": [
              "<tf.Tensor: shape=(1, 4), dtype=int32, numpy=array([[1, 2, 3, 4]], dtype=int32)>"
            ]
          },
          "metadata": {},
          "execution_count": 6
        }
      ],
      "source": [
        "# Try this and look at the error\n",
        "# Try to change the input to `shape` to avoid an error\n",
        "tmp = tf.constant([1,2,3,4])\n",
        "tf.reshape(tmp, shape=(1,4))"
      ]
    },
    {
      "cell_type": "markdown",
      "metadata": {
        "id": "uiPr-FRyROwR"
      },
      "source": [
        "Like reshaping, you can also change the data type of the values within the tensor. Run the cell below to change the data type from `int` to `float`"
      ]
    },
    {
      "cell_type": "code",
      "execution_count": 7,
      "metadata": {
        "id": "VoT-jiAIL8x5",
        "colab": {
          "base_uri": "https://localhost:8080/"
        },
        "outputId": "cdbac705-9903-48ba-9fea-2575ce5795f0"
      },
      "outputs": [
        {
          "output_type": "execute_result",
          "data": {
            "text/plain": [
              "<tf.Tensor: shape=(5, 5), dtype=float32, numpy=\n",
              "array([[  0.,   1.,   4.,   9.,  16.],\n",
              "       [ 25.,  36.,  49.,  64.,  81.],\n",
              "       [100., 121., 144., 169., 196.],\n",
              "       [225., 256., 289., 324., 361.],\n",
              "       [400., 441., 484., 529., 576.]], dtype=float32)>"
            ]
          },
          "metadata": {},
          "execution_count": 7
        }
      ],
      "source": [
        "# Cast tensor x into float32. Notice the change in the dtype.\n",
        "x = tf.cast(x, tf.float32)\n",
        "x"
      ]
    },
    {
      "cell_type": "markdown",
      "metadata": {
        "id": "vaD5WZQNROwS"
      },
      "source": [
        "Next, you'll create a single value float tensor by the help of which you'll see `broadcasting` in action"
      ]
    },
    {
      "cell_type": "code",
      "execution_count": 8,
      "metadata": {
        "colab": {
          "base_uri": "https://localhost:8080/"
        },
        "id": "Rx-HScTyROwS",
        "outputId": "eea8f735-bf92-4885-d2a4-907f1e035ff0"
      },
      "outputs": [
        {
          "output_type": "execute_result",
          "data": {
            "text/plain": [
              "<tf.Tensor: shape=(), dtype=float32, numpy=2.0>"
            ]
          },
          "metadata": {},
          "execution_count": 8
        }
      ],
      "source": [
        "# Let's define a constant and see how broadcasting works in the following cell.\n",
        "y = tf.constant(2, dtype=tf.float32)\n",
        "y"
      ]
    },
    {
      "cell_type": "markdown",
      "metadata": {
        "id": "iXfteE2KROwT"
      },
      "source": [
        "Multiply the tensors `x` and `y` together, and notice how multiplication was done and its result."
      ]
    },
    {
      "cell_type": "code",
      "execution_count": 9,
      "metadata": {
        "id": "ivepGtD5MKP5",
        "colab": {
          "base_uri": "https://localhost:8080/"
        },
        "outputId": "3a4cfff8-4324-4895-9e0c-626b78a08990"
      },
      "outputs": [
        {
          "output_type": "execute_result",
          "data": {
            "text/plain": [
              "<tf.Tensor: shape=(5, 5), dtype=float32, numpy=\n",
              "array([[   0.,    2.,    8.,   18.,   32.],\n",
              "       [  50.,   72.,   98.,  128.,  162.],\n",
              "       [ 200.,  242.,  288.,  338.,  392.],\n",
              "       [ 450.,  512.,  578.,  648.,  722.],\n",
              "       [ 800.,  882.,  968., 1058., 1152.]], dtype=float32)>"
            ]
          },
          "metadata": {},
          "execution_count": 9
        }
      ],
      "source": [
        "# Multiply tensor `x` and `y`. `y` is multiplied to each element of x.\n",
        "result = tf.multiply(x, y)\n",
        "result"
      ]
    },
    {
      "cell_type": "markdown",
      "metadata": {
        "id": "ZATbvZ6rROwU"
      },
      "source": [
        "Re-Initialize `y` to a tensor having more values."
      ]
    },
    {
      "cell_type": "code",
      "execution_count": 10,
      "metadata": {
        "id": "8wzZ5NcMMPzD",
        "colab": {
          "base_uri": "https://localhost:8080/"
        },
        "outputId": "44f2e540-dc2f-4167-dc7c-09be908f3602"
      },
      "outputs": [
        {
          "output_type": "execute_result",
          "data": {
            "text/plain": [
              "<tf.Tensor: shape=(5,), dtype=float32, numpy=array([1., 2., 3., 4., 5.], dtype=float32)>"
            ]
          },
          "metadata": {},
          "execution_count": 10
        }
      ],
      "source": [
        "# Now let's define an array that matches the number of row elements in the `x` array.\n",
        "y = tf.constant([1, 2, 3, 4, 5], dtype=tf.float32)\n",
        "y"
      ]
    },
    {
      "cell_type": "code",
      "execution_count": 11,
      "metadata": {
        "colab": {
          "base_uri": "https://localhost:8080/"
        },
        "id": "8lmw0QFbROwV",
        "outputId": "6dc063a8-011b-45a8-c191-77d2e0b22c26"
      },
      "outputs": [
        {
          "output_type": "execute_result",
          "data": {
            "text/plain": [
              "<tf.Tensor: shape=(5, 5), dtype=float32, numpy=\n",
              "array([[  0.,   1.,   4.,   9.,  16.],\n",
              "       [ 25.,  36.,  49.,  64.,  81.],\n",
              "       [100., 121., 144., 169., 196.],\n",
              "       [225., 256., 289., 324., 361.],\n",
              "       [400., 441., 484., 529., 576.]], dtype=float32)>"
            ]
          },
          "metadata": {},
          "execution_count": 11
        }
      ],
      "source": [
        "# Let's see first the contents of `x` again.\n",
        "x"
      ]
    },
    {
      "cell_type": "markdown",
      "metadata": {
        "id": "tK6FkaRmROwW"
      },
      "source": [
        "Add the tensors `x` and `y` together, and notice how addition was done and its result."
      ]
    },
    {
      "cell_type": "code",
      "execution_count": 12,
      "metadata": {
        "id": "BVlntdYnMboh",
        "colab": {
          "base_uri": "https://localhost:8080/"
        },
        "outputId": "0f2832b9-5398-4a33-92d6-f15d7bd1b9c1"
      },
      "outputs": [
        {
          "output_type": "execute_result",
          "data": {
            "text/plain": [
              "<tf.Tensor: shape=(5, 5), dtype=float32, numpy=\n",
              "array([[  1.,   3.,   7.,  13.,  21.],\n",
              "       [ 26.,  38.,  52.,  68.,  86.],\n",
              "       [101., 123., 147., 173., 201.],\n",
              "       [226., 258., 292., 328., 366.],\n",
              "       [401., 443., 487., 533., 581.]], dtype=float32)>"
            ]
          },
          "metadata": {},
          "execution_count": 12
        }
      ],
      "source": [
        "# Add tensor `x` and `y`. `y` is added element wise to each row of `x`.\n",
        "result = x + y\n",
        "result"
      ]
    },
    {
      "cell_type": "markdown",
      "metadata": {
        "id": "fBVUC0fmROwW"
      },
      "source": [
        "### The shape parameter for tf.constant\n",
        "\n",
        "When using `tf.constant()`, you can pass in a 1D array (a vector) and set the `shape` parameter to turn this vector into a multi-dimensional array."
      ]
    },
    {
      "cell_type": "code",
      "execution_count": 13,
      "metadata": {
        "colab": {
          "base_uri": "https://localhost:8080/"
        },
        "id": "o26Wx2qiROwW",
        "outputId": "a6e5fb87-8a8a-491b-d1a0-830417805ff1"
      },
      "outputs": [
        {
          "output_type": "execute_result",
          "data": {
            "text/plain": [
              "<tf.Tensor: shape=(2, 2), dtype=int32, numpy=\n",
              "array([[1, 2],\n",
              "       [3, 4]], dtype=int32)>"
            ]
          },
          "metadata": {},
          "execution_count": 13
        }
      ],
      "source": [
        "tf.constant([1,2,3,4], shape=(2,2))"
      ]
    },
    {
      "cell_type": "markdown",
      "metadata": {
        "id": "FWwnwUQIROwX"
      },
      "source": [
        "### The shape parameter for tf.Variable\n",
        "\n",
        "Note, however, that for `tf.Variable()`, the shape of the tensor is derived from the shape given by the input array.  Setting `shape` to something other than `None` will not reshape a 1D array into a multi-dimensional array, and will give a `ValueError`."
      ]
    },
    {
      "cell_type": "code",
      "execution_count": 14,
      "metadata": {
        "colab": {
          "base_uri": "https://localhost:8080/"
        },
        "id": "S36PrV-FROwX",
        "outputId": "0b231f95-0154-422a-d69e-f969b816e17d"
      },
      "outputs": [
        {
          "output_type": "stream",
          "name": "stdout",
          "text": [
            "In this `tf.Variable` creation, the initial value's shape ((4,)) is not compatible with the explicitly supplied `shape` argument ((2, 2)).\n"
          ]
        }
      ],
      "source": [
        "try:\n",
        "    # This will produce a ValueError\n",
        "    tf.Variable([1,2,3,4], shape=(2,2))\n",
        "except ValueError as v:\n",
        "    # See what the ValueError says\n",
        "    print(v)"
      ]
    }
  ],
  "metadata": {
    "colab": {
      "provenance": [],
      "include_colab_link": true
    },
    "kernelspec": {
      "display_name": "Python 3",
      "language": "python",
      "name": "python3"
    },
    "language_info": {
      "codemirror_mode": {
        "name": "ipython",
        "version": 3
      },
      "file_extension": ".py",
      "mimetype": "text/x-python",
      "name": "python",
      "nbconvert_exporter": "python",
      "pygments_lexer": "ipython3",
      "version": "3.7.6"
    }
  },
  "nbformat": 4,
  "nbformat_minor": 0
}